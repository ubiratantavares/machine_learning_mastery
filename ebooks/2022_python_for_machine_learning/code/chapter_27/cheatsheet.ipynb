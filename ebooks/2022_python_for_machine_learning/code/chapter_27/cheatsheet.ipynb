{
 "cells": [
  {
   "cell_type": "markdown",
   "id": "651f881f-4257-48bd-9543-2b4588771364",
   "metadata": {},
   "source": [
    "# NumPy cheatsheet\n",
    "\n",
    "Copyright 2022 [MachineLearningMastery.com](https://machinelearningmastery.com/)"
   ]
  },
  {
   "cell_type": "code",
   "execution_count": 1,
   "id": "316c7863-00d2-4850-b79e-74f0c44a6958",
   "metadata": {},
   "outputs": [],
   "source": [
    "import numpy as np"
   ]
  },
  {
   "cell_type": "markdown",
   "id": "c885304b-49a6-414c-a053-5d8984f96aa9",
   "metadata": {
    "tags": []
   },
   "source": [
    "## Ask for help"
   ]
  },
  {
   "cell_type": "code",
   "execution_count": 2,
   "id": "fb0ef1da-e675-4373-bc1a-d8bb4c1d93dd",
   "metadata": {},
   "outputs": [
    {
     "name": "stdout",
     "output_type": "stream",
     "text": [
      "['abs', 'absolute', 'add', 'add_docstring', 'add_newdoc', 'add_newdoc_ufunc', 'alen', 'all', 'allclose', 'alltrue', 'amax', 'amin', 'angle', 'any', 'append', 'apply_along_axis', 'apply_over_axes', 'arange', 'arccos', 'arccosh', 'arcsin', 'arcsinh', 'arctan', 'arctan2', 'arctanh', 'argmax', 'argmin', 'argpartition', 'argsort', 'argwhere', 'around', 'array', 'array2string', 'array_equal', 'array_equiv', 'array_repr', 'array_split', 'array_str', 'asanyarray', 'asarray', 'asarray_chkfinite', 'ascontiguousarray', 'asfarray', 'asfortranarray', 'asmatrix', 'asscalar', 'atleast_1d', 'atleast_2d', 'atleast_3d', 'average', 'bartlett', 'base_repr', 'binary_repr', 'bincount', 'bitwise_and', 'bitwise_not', 'bitwise_or', 'bitwise_xor', 'blackman', 'block', 'bmat', 'bool8', 'bool_', 'broadcast', 'broadcast_arrays', 'broadcast_shapes', 'broadcast_to', 'busday_count', 'busday_offset', 'busdaycalendar', 'byte', 'byte_bounds', 'bytes0', 'bytes_', 'c_', 'can_cast', 'cast', 'cbrt', 'cdouble', 'ceil', 'cfloat', 'char', 'character', 'chararray', 'choose', 'clip', 'clongdouble', 'clongfloat', 'column_stack', 'common_type', 'compare_chararrays', 'compat', 'complex128', 'complex256', 'complex64', 'complex_', 'complexfloating', 'compress', 'concatenate', 'conj', 'conjugate', 'convolve', 'copy', 'copysign', 'copyto', 'core', 'corrcoef', 'correlate', 'cos', 'cosh', 'count_nonzero', 'cov', 'cross', 'csingle', 'ctypeslib', 'cumprod', 'cumproduct', 'cumsum', 'datetime64', 'datetime_as_string', 'datetime_data', 'deg2rad', 'degrees', 'delete', 'deprecate', 'deprecate_with_doc', 'diag', 'diag_indices', 'diag_indices_from', 'diagflat', 'diagonal', 'diff', 'digitize', 'disp', 'divide', 'divmod', 'dot', 'double', 'dsplit', 'dstack', 'dtype', 'e', 'ediff1d', 'einsum', 'einsum_path', 'emath', 'empty', 'empty_like', 'equal', 'error_message', 'errstate', 'euler_gamma', 'exp', 'exp2', 'expand_dims', 'expm1', 'extract', 'eye', 'fabs', 'fastCopyAndTranspose', 'fft', 'fill_diagonal', 'find_common_type', 'finfo', 'fix', 'flatiter', 'flatnonzero', 'flexible', 'flip', 'fliplr', 'flipud', 'float128', 'float16', 'float32', 'float64', 'float_', 'float_power', 'floating', 'floor', 'floor_divide', 'fmax', 'fmin', 'fmod', 'format_float_positional', 'format_float_scientific', 'format_parser', 'frexp', 'frombuffer', 'fromfile', 'fromfunction', 'fromiter', 'frompyfunc', 'fromregex', 'fromstring', 'full', 'full_like', 'gcd', 'generic', 'genfromtxt', 'geomspace', 'get_array_wrap', 'get_include', 'get_printoptions', 'getbufsize', 'geterr', 'geterrcall', 'geterrobj', 'gradient', 'greater', 'greater_equal', 'half', 'hamming', 'hanning', 'heaviside', 'histogram', 'histogram2d', 'histogram_bin_edges', 'histogramdd', 'hsplit', 'hstack', 'hypot', 'i0', 'identity', 'iinfo', 'imag', 'in1d', 'index_exp', 'indices', 'inexact', 'inf', 'info', 'infty', 'inner', 'insert', 'int0', 'int16', 'int32', 'int64', 'int8', 'int_', 'intc', 'integer', 'interp', 'intersect1d', 'intp', 'invert', 'is_busday', 'isclose', 'iscomplex', 'iscomplexobj', 'isfinite', 'isfortran', 'isin', 'isinf', 'isnan', 'isnat', 'isneginf', 'isposinf', 'isreal', 'isrealobj', 'isscalar', 'issctype', 'issubclass_', 'issubdtype', 'issubsctype', 'iterable', 'ix_', 'kaiser', 'kron', 'lcm', 'ldexp', 'left_shift', 'less', 'less_equal', 'lexsort', 'lib', 'linalg', 'linspace', 'little_endian', 'load', 'loads', 'loadtxt', 'log', 'log10', 'log1p', 'log2', 'logaddexp', 'logaddexp2', 'logical_and', 'logical_not', 'logical_or', 'logical_xor', 'logspace', 'longcomplex', 'longdouble', 'longfloat', 'longlong', 'lookfor', 'ma', 'mafromtxt', 'mask_indices', 'mat', 'math', 'matmul', 'matrix', 'matrixlib', 'max', 'maximum', 'maximum_sctype', 'may_share_memory', 'mean', 'median', 'memmap', 'meshgrid', 'mgrid', 'min', 'min_scalar_type', 'minimum', 'mintypecode', 'mod', 'modf', 'moveaxis', 'msort', 'multiply', 'nan', 'nan_to_num', 'nanargmax', 'nanargmin', 'nancumprod', 'nancumsum', 'nanmax', 'nanmean', 'nanmedian', 'nanmin', 'nanpercentile', 'nanprod', 'nanquantile', 'nanstd', 'nansum', 'nanvar', 'nbytes', 'ndarray', 'ndenumerate', 'ndfromtxt', 'ndim', 'ndindex', 'nditer', 'negative', 'nested_iters', 'newaxis', 'nextafter', 'nonzero', 'not_equal', 'numarray', 'number', 'obj2sctype', 'object0', 'object_', 'ogrid', 'oldnumeric', 'ones', 'ones_like', 'os', 'outer', 'packbits', 'pad', 'partition', 'percentile', 'pi', 'piecewise', 'place', 'poly', 'poly1d', 'polyadd', 'polyder', 'polydiv', 'polyfit', 'polyint', 'polymul', 'polynomial', 'polysub', 'polyval', 'positive', 'power', 'printoptions', 'prod', 'product', 'promote_types', 'ptp', 'put', 'put_along_axis', 'putmask', 'quantile', 'r_', 'rad2deg', 'radians', 'random', 'ravel', 'ravel_multi_index', 'real', 'real_if_close', 'rec', 'recarray', 'recfromcsv', 'recfromtxt', 'reciprocal', 'record', 'remainder', 'repeat', 'require', 'reshape', 'resize', 'result_type', 'right_shift', 'rint', 'roll', 'rollaxis', 'roots', 'rot90', 'round', 'round_', 'row_stack', 's_', 'safe_eval', 'save', 'savetxt', 'savez', 'savez_compressed', 'sctype2char', 'sctypeDict', 'sctypes', 'searchsorted', 'select', 'set_numeric_ops', 'set_printoptions', 'set_string_function', 'setbufsize', 'setdiff1d', 'seterr', 'seterrcall', 'seterrobj', 'setxor1d', 'shape', 'shares_memory', 'short', 'show_config', 'sign', 'signbit', 'signedinteger', 'sin', 'sinc', 'single', 'singlecomplex', 'sinh', 'size', 'sometrue', 'sort', 'sort_complex', 'source', 'spacing', 'split', 'sqrt', 'square', 'squeeze', 'stack', 'std', 'str0', 'str_', 'string_', 'subtract', 'sum', 'swapaxes', 'sys', 'take', 'take_along_axis', 'tan', 'tanh', 'tensordot', 'test', 'testing', 'tile', 'timedelta64', 'trace', 'tracemalloc_domain', 'transpose', 'trapz', 'tri', 'tril', 'tril_indices', 'tril_indices_from', 'trim_zeros', 'triu', 'triu_indices', 'triu_indices_from', 'true_divide', 'trunc', 'typecodes', 'typename', 'ubyte', 'ufunc', 'uint', 'uint0', 'uint16', 'uint32', 'uint64', 'uint8', 'uintc', 'uintp', 'ulonglong', 'unicode_', 'union1d', 'unique', 'unpackbits', 'unravel_index', 'unsignedinteger', 'unwrap', 'use_hugepage', 'ushort', 'vander', 'var', 'vdot', 'vectorize', 'version', 'void', 'void0', 'vsplit', 'vstack', 'w', 'warnings', 'where', 'who', 'zeros', 'zeros_like']\n"
     ]
    }
   ],
   "source": [
    "# This is a list of all numpy functions/submodules\n",
    "print([x for x in dir(np) if x[0].islower()])"
   ]
  },
  {
   "cell_type": "code",
   "execution_count": 3,
   "id": "cdea986b-4693-4807-a78e-d0c0e64c820a",
   "metadata": {},
   "outputs": [
    {
     "name": "stdout",
     "output_type": "stream",
     "text": [
      " where()\n",
      "\n",
      "where(condition, [x, y])\n",
      "\n",
      "Return elements chosen from `x` or `y` depending on `condition`.\n",
      "\n",
      ".. note::\n",
      "    When only `condition` is provided, this function is a shorthand for\n",
      "    ``np.asarray(condition).nonzero()``. Using `nonzero` directly should be\n",
      "    preferred, as it behaves correctly for subclasses. The rest of this\n",
      "    documentation covers only the case where all three arguments are\n",
      "    provided.\n",
      "\n",
      "Parameters\n",
      "----------\n",
      "condition : array_like, bool\n",
      "    Where True, yield `x`, otherwise yield `y`.\n",
      "x, y : array_like\n",
      "    Values from which to choose. `x`, `y` and `condition` need to be\n",
      "    broadcastable to some shape.\n",
      "\n",
      "Returns\n",
      "-------\n",
      "out : ndarray\n",
      "    An array with elements from `x` where `condition` is True, and elements\n",
      "    from `y` elsewhere.\n",
      "\n",
      "See Also\n",
      "--------\n",
      "choose\n",
      "nonzero : The function that is called when x and y are omitted\n",
      "\n",
      "Notes\n",
      "-----\n",
      "If all the arrays are 1-D, `where` is equivalent to::\n",
      "\n",
      "    [xv if c else yv\n",
      "     for c, xv, yv in zip(condition, x, y)]\n",
      "\n",
      "Examples\n",
      "--------\n",
      ">>> a = np.arange(10)\n",
      ">>> a\n",
      "array([0, 1, 2, 3, 4, 5, 6, 7, 8, 9])\n",
      ">>> np.where(a < 5, a, 10*a)\n",
      "array([ 0,  1,  2,  3,  4, 50, 60, 70, 80, 90])\n",
      "\n",
      "This can be used on multidimensional arrays too:\n",
      "\n",
      ">>> np.where([[True, False], [True, True]],\n",
      "...          [[1, 2], [3, 4]],\n",
      "...          [[9, 8], [7, 6]])\n",
      "array([[1, 8],\n",
      "       [3, 4]])\n",
      "\n",
      "The shapes of x, y, and the condition are broadcast together:\n",
      "\n",
      ">>> x, y = np.ogrid[:3, :4]\n",
      ">>> np.where(x < y, x, 10 + y)  # both x and 10+y are broadcast\n",
      "array([[10,  0,  0,  0],\n",
      "       [10, 11,  1,  1],\n",
      "       [10, 11, 12,  2]])\n",
      "\n",
      ">>> a = np.array([[0, 1, 2],\n",
      "...               [0, 2, 4],\n",
      "...               [0, 3, 6]])\n",
      ">>> np.where(a < 4, a, -1)  # -1 is broadcast\n",
      "array([[ 0,  1,  2],\n",
      "       [ 0,  2, -1],\n",
      "       [ 0,  3, -1]])\n"
     ]
    }
   ],
   "source": [
    "# Print the docstring of numpy functions\n",
    "np.info(np.where)"
   ]
  },
  {
   "cell_type": "markdown",
   "id": "49ec8366-d5d4-43a9-beb7-6ad1bc7fa677",
   "metadata": {
    "jp-MarkdownHeadingCollapsed": true,
    "tags": []
   },
   "source": [
    "## Generating array"
   ]
  },
  {
   "cell_type": "code",
   "execution_count": 4,
   "id": "08711b4a-ad19-4faf-ab03-19b2d5af0b75",
   "metadata": {},
   "outputs": [
    {
     "data": {
      "text/plain": [
       "array([1, 2, 3])"
      ]
     },
     "execution_count": 4,
     "metadata": {},
     "output_type": "execute_result"
    }
   ],
   "source": [
    "np.array([1,2,3])"
   ]
  },
  {
   "cell_type": "code",
   "execution_count": 5,
   "id": "8469c45d-a632-4706-8317-25f10e43f6cc",
   "metadata": {},
   "outputs": [
    {
     "data": {
      "text/plain": [
       "array([1, 2, 3])"
      ]
     },
     "execution_count": 5,
     "metadata": {},
     "output_type": "execute_result"
    }
   ],
   "source": [
    "np.asarray([1,2,3])"
   ]
  },
  {
   "cell_type": "code",
   "execution_count": 6,
   "id": "4c217620-8681-4dfc-9385-93dcc65c53a1",
   "metadata": {},
   "outputs": [
    {
     "data": {
      "text/plain": [
       "array([0.  , 0.25, 0.5 , 0.75, 1.  ])"
      ]
     },
     "execution_count": 6,
     "metadata": {},
     "output_type": "execute_result"
    }
   ],
   "source": [
    "np.linspace(0,1,5)"
   ]
  },
  {
   "cell_type": "code",
   "execution_count": 7,
   "id": "11413776-9fca-449e-be41-99189e41156c",
   "metadata": {},
   "outputs": [
    {
     "data": {
      "text/plain": [
       "array([0.  , 0.25, 0.5 , 0.75])"
      ]
     },
     "execution_count": 7,
     "metadata": {},
     "output_type": "execute_result"
    }
   ],
   "source": [
    "np.arange(0,1,0.25)"
   ]
  },
  {
   "cell_type": "code",
   "execution_count": 8,
   "id": "21ce969e-b9dd-415f-a48c-3d84cb0dccde",
   "metadata": {},
   "outputs": [
    {
     "data": {
      "text/plain": [
       "array([[0., 0., 0., 0.],\n",
       "       [0., 0., 0., 0.],\n",
       "       [0., 0., 0., 0.]])"
      ]
     },
     "execution_count": 8,
     "metadata": {},
     "output_type": "execute_result"
    }
   ],
   "source": [
    "np.zeros((3,4))"
   ]
  },
  {
   "cell_type": "code",
   "execution_count": 9,
   "id": "afb38ab5-a0cc-423f-9c6c-e8b656cbc88e",
   "metadata": {},
   "outputs": [
    {
     "data": {
      "text/plain": [
       "array([[1., 1., 1., 1.],\n",
       "       [1., 1., 1., 1.],\n",
       "       [1., 1., 1., 1.]])"
      ]
     },
     "execution_count": 9,
     "metadata": {},
     "output_type": "execute_result"
    }
   ],
   "source": [
    "np.ones((3,4))"
   ]
  },
  {
   "cell_type": "code",
   "execution_count": 10,
   "id": "341e8130-ea6f-4b37-9e46-52d54d3a47fc",
   "metadata": {},
   "outputs": [
    {
     "data": {
      "text/plain": [
       "array([[2, 2, 2, 2],\n",
       "       [2, 2, 2, 2],\n",
       "       [2, 2, 2, 2]])"
      ]
     },
     "execution_count": 10,
     "metadata": {},
     "output_type": "execute_result"
    }
   ],
   "source": [
    "np.full((3,4), 2)"
   ]
  },
  {
   "cell_type": "code",
   "execution_count": 11,
   "id": "3f858e73-d637-4dce-9786-13afbabbe6c9",
   "metadata": {},
   "outputs": [
    {
     "data": {
      "text/plain": [
       "array([[1., 0., 0.],\n",
       "       [0., 1., 0.],\n",
       "       [0., 0., 1.]])"
      ]
     },
     "execution_count": 11,
     "metadata": {},
     "output_type": "execute_result"
    }
   ],
   "source": [
    "np.eye(3)"
   ]
  },
  {
   "cell_type": "code",
   "execution_count": 12,
   "id": "0e47e7e7-8044-4106-a8f5-dcd48f5432a0",
   "metadata": {},
   "outputs": [
    {
     "data": {
      "text/plain": [
       "array([[0.29638547, 0.82859591, 0.07089721, 0.25944053],\n",
       "       [0.32011999, 0.51136344, 0.5286878 , 0.83618863],\n",
       "       [0.09762587, 0.10493056, 0.05519687, 0.59947369]])"
      ]
     },
     "execution_count": 12,
     "metadata": {},
     "output_type": "execute_result"
    }
   ],
   "source": [
    "np.random.random((3,4))"
   ]
  },
  {
   "cell_type": "code",
   "execution_count": 13,
   "id": "943b4ec6-32db-4d0e-993a-8e882c74b931",
   "metadata": {},
   "outputs": [
    {
     "data": {
      "text/plain": [
       "array([[7, 4, 5, 4],\n",
       "       [2, 4, 2, 4],\n",
       "       [1, 8, 8, 6]])"
      ]
     },
     "execution_count": 13,
     "metadata": {},
     "output_type": "execute_result"
    }
   ],
   "source": [
    "np.random.randint(10, size=(3,4))"
   ]
  },
  {
   "cell_type": "code",
   "execution_count": 14,
   "id": "2cbd6849-fcaa-4848-9ec9-bca0491cd48f",
   "metadata": {},
   "outputs": [
    {
     "data": {
      "text/plain": [
       "array([[-1.13090119, -1.82672833, -1.46957454,  0.77323069],\n",
       "       [-0.22906409,  1.73376918,  1.0887118 ,  0.02445698],\n",
       "       [-0.16144862,  0.76866444, -1.22546744,  0.51423346]])"
      ]
     },
     "execution_count": 14,
     "metadata": {},
     "output_type": "execute_result"
    }
   ],
   "source": [
    "np.random.randn(3,4)  # note it is two arguments, not one tuple"
   ]
  },
  {
   "cell_type": "code",
   "execution_count": 15,
   "id": "36afca66-7dc7-4152-98b2-be6bea4a7fa6",
   "metadata": {},
   "outputs": [
    {
     "data": {
      "text/plain": [
       "array([[1.13090119, 1.82672833, 1.46957454, 0.77323069],\n",
       "       [0.22906409, 1.73376918, 1.0887118 , 0.02445698],\n",
       "       [0.16144862, 0.76866444, 1.22546744, 0.51423346]])"
      ]
     },
     "execution_count": 15,
     "metadata": {},
     "output_type": "execute_result"
    }
   ],
   "source": [
    "# create array of uninitialized values\n",
    "np.empty((3,4))"
   ]
  },
  {
   "cell_type": "code",
   "execution_count": 16,
   "id": "13e8b5e7-52b3-4998-9113-a64e4924e9f8",
   "metadata": {},
   "outputs": [
    {
     "data": {
      "text/plain": [
       "(array([1, 2]), array([3, 4, 5]))"
      ]
     },
     "execution_count": 16,
     "metadata": {},
     "output_type": "execute_result"
    }
   ],
   "source": [
    "a = np.array([1,2])\n",
    "b = np.array([3,4,5])\n",
    "a,b"
   ]
  },
  {
   "cell_type": "code",
   "execution_count": 17,
   "id": "d5882850-9a03-4503-a627-bb1d478a6bb2",
   "metadata": {},
   "outputs": [
    {
     "data": {
      "text/plain": [
       "[array([[1, 2],\n",
       "        [1, 2],\n",
       "        [1, 2]]),\n",
       " array([[3, 3],\n",
       "        [4, 4],\n",
       "        [5, 5]])]"
      ]
     },
     "execution_count": 17,
     "metadata": {},
     "output_type": "execute_result"
    }
   ],
   "source": [
    "np.meshgrid(a,b)"
   ]
  },
  {
   "cell_type": "markdown",
   "id": "4a202bc7-e662-4ac4-9111-63de4ace6326",
   "metadata": {
    "jp-MarkdownHeadingCollapsed": true,
    "tags": []
   },
   "source": [
    "## Inspecting array"
   ]
  },
  {
   "cell_type": "code",
   "execution_count": 18,
   "id": "7642e813-9e65-4e6e-95a9-ba730b04b096",
   "metadata": {},
   "outputs": [],
   "source": [
    "A = np.random.randn(3,4)"
   ]
  },
  {
   "cell_type": "code",
   "execution_count": 19,
   "id": "32fbff4f-eb34-489c-9c44-9a6af1c4506b",
   "metadata": {},
   "outputs": [
    {
     "data": {
      "text/plain": [
       "(3, 4)"
      ]
     },
     "execution_count": 19,
     "metadata": {},
     "output_type": "execute_result"
    }
   ],
   "source": [
    "A.shape"
   ]
  },
  {
   "cell_type": "code",
   "execution_count": 20,
   "id": "fe9ef4db-1356-4b80-a05c-a6e1fedfbd07",
   "metadata": {},
   "outputs": [
    {
     "data": {
      "text/plain": [
       "12"
      ]
     },
     "execution_count": 20,
     "metadata": {},
     "output_type": "execute_result"
    }
   ],
   "source": [
    "A.size # count of total elements"
   ]
  },
  {
   "cell_type": "code",
   "execution_count": 21,
   "id": "badb151b-6318-44e4-8537-12fe3606c6a5",
   "metadata": {},
   "outputs": [
    {
     "data": {
      "text/plain": [
       "3"
      ]
     },
     "execution_count": 21,
     "metadata": {},
     "output_type": "execute_result"
    }
   ],
   "source": [
    "len(A) # axis 0 length"
   ]
  },
  {
   "cell_type": "code",
   "execution_count": 22,
   "id": "1e65b703-35e5-429c-b828-6b36f2a2f0d7",
   "metadata": {},
   "outputs": [
    {
     "data": {
      "text/plain": [
       "2"
      ]
     },
     "execution_count": 22,
     "metadata": {},
     "output_type": "execute_result"
    }
   ],
   "source": [
    "A.ndim # number of dimensions"
   ]
  },
  {
   "cell_type": "code",
   "execution_count": 23,
   "id": "9ee58856-4557-46b5-a380-3b9c5f89c148",
   "metadata": {},
   "outputs": [
    {
     "data": {
      "text/plain": [
       "dtype('float64')"
      ]
     },
     "execution_count": 23,
     "metadata": {},
     "output_type": "execute_result"
    }
   ],
   "source": [
    "A.dtype"
   ]
  },
  {
   "cell_type": "code",
   "execution_count": 24,
   "id": "a15c17e2-20b2-493b-8fd5-c0e997f9af4f",
   "metadata": {},
   "outputs": [
    {
     "data": {
      "text/plain": [
       "array([[-1,  0,  0,  0],\n",
       "       [ 0,  0,  0,  0],\n",
       "       [ 0,  0,  1,  0]])"
      ]
     },
     "execution_count": 24,
     "metadata": {},
     "output_type": "execute_result"
    }
   ],
   "source": [
    "A.astype(int)"
   ]
  },
  {
   "cell_type": "markdown",
   "id": "bcb9bc1f-423d-4b48-8cda-0122087cee59",
   "metadata": {
    "jp-MarkdownHeadingCollapsed": true,
    "tags": []
   },
   "source": [
    "## Matrix multiplication / Vector dot-product"
   ]
  },
  {
   "cell_type": "code",
   "execution_count": 25,
   "id": "8ed6d9d7-6ccf-468b-a022-39e13dbfdc4d",
   "metadata": {},
   "outputs": [
    {
     "data": {
      "text/plain": [
       "(array([[0.66641749, 0.28692405, 0.09189193, 0.50342942],\n",
       "        [0.00184633, 0.56191413, 0.7310369 , 0.8158487 ],\n",
       "        [0.91912902, 0.66852796, 0.36782425, 0.01194809]]),\n",
       " array([[ 0.96088413, -0.05353463,  0.66829372, -0.88898352],\n",
       "        [ 0.8960371 ,  2.40403233,  0.08752414, -0.25952931],\n",
       "        [-0.06254057,  1.63369261,  0.65843587,  1.05482128]]))"
      ]
     },
     "execution_count": 25,
     "metadata": {},
     "output_type": "execute_result"
    }
   ],
   "source": [
    "A = np.random.random((3,4))\n",
    "B = np.random.randn(3,4)\n",
    "A, B"
   ]
  },
  {
   "cell_type": "code",
   "execution_count": 26,
   "id": "d2c25b3a-0fab-419f-8ba8-8470ef384f7b",
   "metadata": {},
   "outputs": [
    {
     "data": {
      "text/plain": [
       "(array([[ 0.23885996,  1.16429756,  1.01860057],\n",
       "        [-0.26503643,  1.20476083,  2.25979497],\n",
       "        [ 1.08258008,  2.45982915,  1.2894781 ]]),\n",
       " array([[ 0.23885996,  1.16429756,  1.01860057],\n",
       "        [-0.26503643,  1.20476083,  2.25979497],\n",
       "        [ 1.08258008,  2.45982915,  1.2894781 ]]),\n",
       " array([[ 0.23885996,  1.16429756,  1.01860057],\n",
       "        [-0.26503643,  1.20476083,  2.25979497],\n",
       "        [ 1.08258008,  2.45982915,  1.2894781 ]]))"
      ]
     },
     "execution_count": 26,
     "metadata": {},
     "output_type": "execute_result"
    }
   ],
   "source": [
    "A @ B.T, np.matmul(A, B.T), np.dot(A, B.T)"
   ]
  },
  {
   "cell_type": "code",
   "execution_count": 27,
   "id": "0bbaf6f2-57ea-472c-80e3-7bd6fe8b48df",
   "metadata": {},
   "outputs": [
    {
     "data": {
      "text/plain": [
       "(0.23885995727188736, 0.23885995727188736, 0.23885995727188736)"
      ]
     },
     "execution_count": 27,
     "metadata": {},
     "output_type": "execute_result"
    }
   ],
   "source": [
    "A[0] @ B[0], np.matmul(A[0], B[0]), np.dot(A[0], B[0])"
   ]
  },
  {
   "cell_type": "markdown",
   "id": "87770ed6-b4e6-4ab7-adc2-e82b7c4e9aae",
   "metadata": {
    "jp-MarkdownHeadingCollapsed": true,
    "tags": []
   },
   "source": [
    "## Element-wise operations"
   ]
  },
  {
   "cell_type": "code",
   "execution_count": 28,
   "id": "cb7707dd-46b3-4def-84b0-507025acf155",
   "metadata": {},
   "outputs": [
    {
     "data": {
      "text/plain": [
       "(array([[ 1.62730162,  0.23338942,  0.76018565, -0.3855541 ],\n",
       "        [ 0.89788343,  2.96594646,  0.81856104,  0.55631938],\n",
       "        [ 0.85658845,  2.30222057,  1.02626012,  1.06676937]]),\n",
       " array([[ 1.62730162,  0.23338942,  0.76018565, -0.3855541 ],\n",
       "        [ 0.89788343,  2.96594646,  0.81856104,  0.55631938],\n",
       "        [ 0.85658845,  2.30222057,  1.02626012,  1.06676937]]))"
      ]
     },
     "execution_count": 28,
     "metadata": {},
     "output_type": "execute_result"
    }
   ],
   "source": [
    "A + B, np.add(A,B)"
   ]
  },
  {
   "cell_type": "code",
   "execution_count": 29,
   "id": "656401c4-52ba-494e-864b-3f1905bd5010",
   "metadata": {},
   "outputs": [
    {
     "data": {
      "text/plain": [
       "(array([[-0.29446664,  0.34045868, -0.57640179,  1.39241294],\n",
       "        [-0.89419077, -1.84211821,  0.64351276,  1.07537801],\n",
       "        [ 0.9816696 , -0.96516466, -0.29061162, -1.04287319]]),\n",
       " array([[-0.29446664,  0.34045868, -0.57640179,  1.39241294],\n",
       "        [-0.89419077, -1.84211821,  0.64351276,  1.07537801],\n",
       "        [ 0.9816696 , -0.96516466, -0.29061162, -1.04287319]]))"
      ]
     },
     "execution_count": 29,
     "metadata": {},
     "output_type": "execute_result"
    }
   ],
   "source": [
    "A - B, np.subtract(A,B)"
   ]
  },
  {
   "cell_type": "code",
   "execution_count": 30,
   "id": "0919e5cf-850f-4bb5-9bd4-779a1323f4b1",
   "metadata": {},
   "outputs": [
    {
     "data": {
      "text/plain": [
       "(array([[ 0.64034999, -0.01536037,  0.0614108 , -0.44754046],\n",
       "        [ 0.00165438,  1.35085973,  0.06398338, -0.21173665],\n",
       "        [-0.05748286,  1.09216918,  0.24218868,  0.0126031 ]]),\n",
       " array([[ 0.64034999, -0.01536037,  0.0614108 , -0.44754046],\n",
       "        [ 0.00165438,  1.35085973,  0.06398338, -0.21173665],\n",
       "        [-0.05748286,  1.09216918,  0.24218868,  0.0126031 ]]))"
      ]
     },
     "execution_count": 30,
     "metadata": {},
     "output_type": "execute_result"
    }
   ],
   "source": [
    "A * B, np.multiply(A,B)"
   ]
  },
  {
   "cell_type": "code",
   "execution_count": 31,
   "id": "0edd15ba-89c3-4cfd-9c1c-59a6c8039895",
   "metadata": {},
   "outputs": [
    {
     "data": {
      "text/plain": [
       "(array([[ 6.93546150e-01, -5.35959693e+00,  1.37502308e-01,\n",
       "         -5.66297811e-01],\n",
       "        [ 2.06055038e-03,  2.33738173e-01,  8.35240303e+00,\n",
       "         -3.14357050e+00],\n",
       "        [-1.46965236e+01,  4.09212817e-01,  5.58633374e-01,\n",
       "          1.13271220e-02]]),\n",
       " array([[ 6.93546150e-01, -5.35959693e+00,  1.37502308e-01,\n",
       "         -5.66297811e-01],\n",
       "        [ 2.06055038e-03,  2.33738173e-01,  8.35240303e+00,\n",
       "         -3.14357050e+00],\n",
       "        [-1.46965236e+01,  4.09212817e-01,  5.58633374e-01,\n",
       "          1.13271220e-02]]))"
      ]
     },
     "execution_count": 31,
     "metadata": {},
     "output_type": "execute_result"
    }
   ],
   "source": [
    "A / B, np.divide(A, B)"
   ]
  },
  {
   "cell_type": "code",
   "execution_count": 32,
   "id": "148b2671-a4d3-4005-acd4-132dcf280e4c",
   "metadata": {},
   "outputs": [
    {
     "data": {
      "text/plain": [
       "(array([[  0.,  -6.,   0.,  -1.],\n",
       "        [  0.,   0.,   8.,  -4.],\n",
       "        [-15.,   0.,   0.,   0.]]),\n",
       " array([[  0.,  -6.,   0.,  -1.],\n",
       "        [  0.,   0.,   8.,  -4.],\n",
       "        [-15.,   0.,   0.,   0.]]))"
      ]
     },
     "execution_count": 32,
     "metadata": {},
     "output_type": "execute_result"
    }
   ],
   "source": [
    "A // B, np.floor_divide(A, B)"
   ]
  },
  {
   "cell_type": "code",
   "execution_count": 33,
   "id": "8d28efe6-e073-4d09-8c4c-a62a50536e6d",
   "metadata": {},
   "outputs": [
    {
     "data": {
      "text/plain": [
       "(array([[ 0.66641749, -0.03428374,  0.09189193, -0.3855541 ],\n",
       "        [ 0.00184633,  0.56191413,  0.03084377, -0.22226856],\n",
       "        [-0.01897959,  0.66852796,  0.36782425,  0.01194809]]),\n",
       " array([[ 0.66641749, -0.03428374,  0.09189193, -0.3855541 ],\n",
       "        [ 0.00184633,  0.56191413,  0.03084377, -0.22226856],\n",
       "        [-0.01897959,  0.66852796,  0.36782425,  0.01194809]]))"
      ]
     },
     "execution_count": 33,
     "metadata": {},
     "output_type": "execute_result"
    }
   ],
   "source": [
    "A % B, np.mod(A, B)"
   ]
  },
  {
   "cell_type": "code",
   "execution_count": 34,
   "id": "f0c4ef95-7e39-4808-b5fa-482c32ad3db9",
   "metadata": {},
   "outputs": [
    {
     "data": {
      "text/plain": [
       "False"
      ]
     },
     "execution_count": 34,
     "metadata": {},
     "output_type": "execute_result"
    }
   ],
   "source": [
    "# compare entire array\n",
    "np.array_equal(A, B)"
   ]
  },
  {
   "cell_type": "code",
   "execution_count": 35,
   "id": "9336a7fe-56a1-4f22-96b7-5125ae3e3835",
   "metadata": {},
   "outputs": [
    {
     "data": {
      "text/plain": [
       "(array([[0.67708111, 1.06912441, 0.20284522, 1.84065197],\n",
       "        [0.00355232, 0.25014882, 0.97295198, 1.05424098],\n",
       "        [1.0052879 , 0.51796348, 0.51760925, 0.00937332]]),\n",
       " array([[0.67708111, 1.06912441, 0.20284522, 1.84065197],\n",
       "        [0.00355232, 0.25014882, 0.97295198, 1.05424098],\n",
       "        [1.0052879 , 0.51796348, 0.51760925, 0.00937332]]))"
      ]
     },
     "execution_count": 35,
     "metadata": {},
     "output_type": "execute_result"
    }
   ],
   "source": [
    "A ** B, np.power(A, B)"
   ]
  },
  {
   "cell_type": "code",
   "execution_count": 36,
   "id": "aaff0cda-9523-4b3b-94da-3526299988aa",
   "metadata": {},
   "outputs": [
    {
     "data": {
      "text/plain": [
       "(array([[False, False, False, False],\n",
       "        [False, False, False, False],\n",
       "        [False, False, False, False]]),\n",
       " array([[False, False, False, False],\n",
       "        [False, False, False, False],\n",
       "        [False, False, False, False]]))"
      ]
     },
     "execution_count": 36,
     "metadata": {},
     "output_type": "execute_result"
    }
   ],
   "source": [
    "A == B, np.equal(A,B)"
   ]
  },
  {
   "cell_type": "code",
   "execution_count": 37,
   "id": "8e172870-04aa-40cd-86ab-326ab979f548",
   "metadata": {},
   "outputs": [
    {
     "data": {
      "text/plain": [
       "(array([[ True,  True,  True,  True],\n",
       "        [ True,  True,  True,  True],\n",
       "        [ True,  True,  True,  True]]),\n",
       " array([[ True,  True,  True,  True],\n",
       "        [ True,  True,  True,  True],\n",
       "        [ True,  True,  True,  True]]))"
      ]
     },
     "execution_count": 37,
     "metadata": {},
     "output_type": "execute_result"
    }
   ],
   "source": [
    "A != B, np.not_equal(A,B)"
   ]
  },
  {
   "cell_type": "code",
   "execution_count": 38,
   "id": "7794ff99-b732-4501-a481-c1e3663cb8c7",
   "metadata": {},
   "outputs": [
    {
     "data": {
      "text/plain": [
       "(array([[False,  True, False,  True],\n",
       "        [False, False,  True,  True],\n",
       "        [ True, False, False, False]]),\n",
       " array([[False,  True, False,  True],\n",
       "        [False, False,  True,  True],\n",
       "        [ True, False, False, False]]))"
      ]
     },
     "execution_count": 38,
     "metadata": {},
     "output_type": "execute_result"
    }
   ],
   "source": [
    "A > B, np.greater(A,B)"
   ]
  },
  {
   "cell_type": "code",
   "execution_count": 39,
   "id": "4e18171d-11e7-4756-8e78-1f4784a783c3",
   "metadata": {},
   "outputs": [
    {
     "data": {
      "text/plain": [
       "(array([[False,  True, False,  True],\n",
       "        [False, False,  True,  True],\n",
       "        [ True, False, False, False]]),\n",
       " array([[False,  True, False,  True],\n",
       "        [False, False,  True,  True],\n",
       "        [ True, False, False, False]]))"
      ]
     },
     "execution_count": 39,
     "metadata": {},
     "output_type": "execute_result"
    }
   ],
   "source": [
    "A >= B, np.greater_equal(A,B)"
   ]
  },
  {
   "cell_type": "code",
   "execution_count": 40,
   "id": "8c2d1bb5-c9b6-4358-806b-00e07e0cb0f4",
   "metadata": {},
   "outputs": [
    {
     "data": {
      "text/plain": [
       "(array([[ True, False,  True, False],\n",
       "        [ True,  True, False, False],\n",
       "        [False,  True,  True,  True]]),\n",
       " array([[ True, False,  True, False],\n",
       "        [ True,  True, False, False],\n",
       "        [False,  True,  True,  True]]))"
      ]
     },
     "execution_count": 40,
     "metadata": {},
     "output_type": "execute_result"
    }
   ],
   "source": [
    "A < B, np.less(A,B)"
   ]
  },
  {
   "cell_type": "code",
   "execution_count": 41,
   "id": "035cbe42-2b3d-417d-b5f7-e4950db394ef",
   "metadata": {},
   "outputs": [
    {
     "data": {
      "text/plain": [
       "(array([[ True, False,  True, False],\n",
       "        [ True,  True, False, False],\n",
       "        [False,  True,  True,  True]]),\n",
       " array([[ True, False,  True, False],\n",
       "        [ True,  True, False, False],\n",
       "        [False,  True,  True,  True]]))"
      ]
     },
     "execution_count": 41,
     "metadata": {},
     "output_type": "execute_result"
    }
   ],
   "source": [
    "A <= B, np.less_equal(A,B)"
   ]
  },
  {
   "cell_type": "code",
   "execution_count": 42,
   "id": "6c841951-b735-4af9-9848-3e772f28c39a",
   "metadata": {},
   "outputs": [
    {
     "data": {
      "text/plain": [
       "array([[ 2.61400658,  0.94787311,  1.95090568,  0.41107339],\n",
       "       [ 2.44987524, 11.06771522,  1.09146861,  0.77141459],\n",
       "       [ 0.93937495,  5.12275618,  1.93176843,  2.87146191]])"
      ]
     },
     "execution_count": 42,
     "metadata": {},
     "output_type": "execute_result"
    }
   ],
   "source": [
    "np.exp(B)"
   ]
  },
  {
   "cell_type": "code",
   "execution_count": 43,
   "id": "ab30b8f7-08aa-42b8-8957-44ef0c6878b8",
   "metadata": {},
   "outputs": [
    {
     "data": {
      "text/plain": [
       "array([[1.94650241, 0.96357266, 1.58919231, 0.53999445],\n",
       "       [1.86094717, 5.29280437, 1.06254515, 0.83536042],\n",
       "       [0.95757635, 3.10306219, 1.57837047, 2.07746083]])"
      ]
     },
     "execution_count": 43,
     "metadata": {},
     "output_type": "execute_result"
    }
   ],
   "source": [
    "np.power(2,B)"
   ]
  },
  {
   "cell_type": "code",
   "execution_count": 44,
   "id": "565c437f-6e25-40fe-acb4-57f3181facab",
   "metadata": {},
   "outputs": [
    {
     "data": {
      "text/plain": [
       "array([[ 8.87182701e-01, -1.53427943e-04,  2.98470996e-01,\n",
       "        -7.02556299e-01],\n",
       "       [ 7.19412498e-01,  1.38937958e+01,  6.70476524e-04,\n",
       "        -1.74807176e-02],\n",
       "       [-2.44616412e-04,  4.36024642e+00,  2.85456833e-01,\n",
       "         1.17364471e+00]])"
      ]
     },
     "execution_count": 44,
     "metadata": {},
     "output_type": "execute_result"
    }
   ],
   "source": [
    "np.power(B,3)"
   ]
  },
  {
   "cell_type": "code",
   "execution_count": 45,
   "id": "cb774932-a8ab-49d3-930f-91d65499ee09",
   "metadata": {},
   "outputs": [
    {
     "data": {
      "text/plain": [
       "array([[-0.40583894, -1.24853774, -2.38714208, -0.68631175],\n",
       "       [-6.29455562, -0.57640624, -0.31329134, -0.20352636],\n",
       "       [-0.08432877, -0.40267707, -1.00015004, -4.42718391]])"
      ]
     },
     "execution_count": 45,
     "metadata": {},
     "output_type": "execute_result"
    }
   ],
   "source": [
    "np.log(A)"
   ]
  },
  {
   "cell_type": "code",
   "execution_count": 46,
   "id": "c9ce95b8-12f2-4903-b40c-3364d346d372",
   "metadata": {},
   "outputs": [
    {
     "data": {
      "text/plain": [
       "array([[-0.17625361, -0.54223305, -1.03672263, -0.29806141],\n",
       "       [-2.73369077, -0.25033005, -0.1360607 , -0.08839038],\n",
       "       [-0.03662352, -0.17488043, -0.43435964, -1.92270154]])"
      ]
     },
     "execution_count": 46,
     "metadata": {},
     "output_type": "execute_result"
    }
   ],
   "source": [
    "np.log10(A)"
   ]
  },
  {
   "cell_type": "code",
   "execution_count": 47,
   "id": "025302f2-1373-45e7-b145-8489c28a67d5",
   "metadata": {},
   "outputs": [
    {
     "data": {
      "text/plain": [
       "array([[-0.58550183, -1.8012592 , -3.44391804, -0.99013856],\n",
       "       [-9.08112417, -0.83157843, -0.45198386, -0.29362647],\n",
       "       [-0.1216607 , -0.58094021, -1.4429115 , -6.38707627]])"
      ]
     },
     "execution_count": 47,
     "metadata": {},
     "output_type": "execute_result"
    }
   ],
   "source": [
    "np.log2(A)"
   ]
  },
  {
   "cell_type": "code",
   "execution_count": 48,
   "id": "41bb6e47-4973-4801-9d06-74ebb3eaff77",
   "metadata": {},
   "outputs": [
    {
     "data": {
      "text/plain": [
       "array([[4.44112271e-01, 8.23254099e-02, 8.44412659e-03, 2.53441183e-01],\n",
       "       [3.40893295e-06, 3.15747485e-01, 5.34414953e-01, 6.65609096e-01],\n",
       "       [8.44798160e-01, 4.46929627e-01, 1.35294679e-01, 1.42756837e-04]])"
      ]
     },
     "execution_count": 48,
     "metadata": {},
     "output_type": "execute_result"
    }
   ],
   "source": [
    "np.square(A)"
   ]
  },
  {
   "cell_type": "code",
   "execution_count": 49,
   "id": "6826db6c-f35f-417a-a4b0-15b31a3fa66b",
   "metadata": {},
   "outputs": [
    {
     "data": {
      "text/plain": [
       "array([[0.81634398, 0.53565292, 0.30313682, 0.7095276 ],\n",
       "       [0.04296894, 0.74960932, 0.85500696, 0.90324343],\n",
       "       [0.95871217, 0.81763559, 0.60648516, 0.10930732]])"
      ]
     },
     "execution_count": 49,
     "metadata": {},
     "output_type": "execute_result"
    }
   ],
   "source": [
    "np.sqrt(A)"
   ]
  },
  {
   "cell_type": "code",
   "execution_count": 50,
   "id": "514f85e4-c24f-4ccf-9c8e-e5b1352e026a",
   "metadata": {},
   "outputs": [
    {
     "data": {
      "text/plain": [
       "array([[0.87347161, 0.65956204, 0.45125891, 0.79551102],\n",
       "       [0.12267886, 0.82519512, 0.90083745, 0.93440799],\n",
       "       [0.97228181, 0.8743927 , 0.71649548, 0.22861224]])"
      ]
     },
     "execution_count": 50,
     "metadata": {},
     "output_type": "execute_result"
    }
   ],
   "source": [
    "np.cbrt(A)"
   ]
  },
  {
   "cell_type": "code",
   "execution_count": 51,
   "id": "6ef0bc38-c004-42ba-b6c8-f07fb4b1ed41",
   "metadata": {},
   "outputs": [
    {
     "data": {
      "text/plain": [
       "(array([[0.61817396, 0.28300337, 0.09176266, 0.48243231],\n",
       "        [0.00184633, 0.53280698, 0.66764195, 0.72830743],\n",
       "        [0.79507366, 0.61983149, 0.35958607, 0.0119478 ]]),\n",
       " array([[0.78604132, 0.95911892, 0.99578091, 0.87593325],\n",
       "        [0.9999983 , 0.8462368 , 0.74448252, 0.68525053],\n",
       "        [0.60651288, 0.78473494, 0.93311192, 0.99992862]]),\n",
       " array([[0.78643952, 0.29506598, 0.09215145, 0.55076379],\n",
       "        [0.00184633, 0.62961925, 0.8967866 , 1.06283381],\n",
       "        [1.31089329, 0.78986097, 0.3853622 , 0.01194866]]))"
      ]
     },
     "execution_count": 51,
     "metadata": {},
     "output_type": "execute_result"
    }
   ],
   "source": [
    "np.sin(A), np.cos(A), np.tan(A)"
   ]
  },
  {
   "cell_type": "code",
   "execution_count": 52,
   "id": "2d884c44-db13-4c61-a4d7-a842913851fb",
   "metadata": {},
   "outputs": [
    {
     "data": {
      "text/plain": [
       "(array([[0.7293934 , 0.29101433, 0.09202175, 0.52756328],\n",
       "        [0.00184633, 0.59669798, 0.81984035, 0.95419534],\n",
       "        [1.16586391, 0.73222763, 0.37666816, 0.01194837]]),\n",
       " array([[0.84140293, 1.279782  , 1.47877458, 1.04323305],\n",
       "        [1.56895   , 0.97409835, 0.75095598, 0.61660099],\n",
       "        [0.40493242, 0.83856869, 1.19412817, 1.55884795]]),\n",
       " array([[0.58783008, 0.27941776, 0.09163458, 0.46638738],\n",
       "        [0.00184633, 0.51194429, 0.63125386, 0.68433035],\n",
       "        [0.74328366, 0.58929008, 0.35246481, 0.01194752]]))"
      ]
     },
     "execution_count": 52,
     "metadata": {},
     "output_type": "execute_result"
    }
   ],
   "source": [
    "np.arcsin(A), np.arccos(A), np.arctan(A)"
   ]
  },
  {
   "cell_type": "code",
   "execution_count": 53,
   "id": "6fd5ea25-54aa-4321-a198-e04b14083a41",
   "metadata": {},
   "outputs": [
    {
     "data": {
      "text/plain": [
       "(array([[0.96088413, 0.05353463, 0.66829372, 0.88898352],\n",
       "        [0.8960371 , 2.40403233, 0.08752414, 0.25952931],\n",
       "        [0.06254057, 1.63369261, 0.65843587, 1.05482128]]),\n",
       " array([[ 1., -1.,  1., -1.],\n",
       "        [ 1.,  1.,  1., -1.],\n",
       "        [-1.,  1.,  1.,  1.]]))"
      ]
     },
     "execution_count": 53,
     "metadata": {},
     "output_type": "execute_result"
    }
   ],
   "source": [
    "np.abs(B), np.sign(B)"
   ]
  },
  {
   "cell_type": "code",
   "execution_count": 54,
   "id": "28cc4297-3336-402e-8777-328275d8dbd4",
   "metadata": {},
   "outputs": [
    {
     "data": {
      "text/plain": [
       "array([[ 0.1,  inf,  nan,  0. ],\n",
       "       [-inf,  nan, -2.1,  0.1]])"
      ]
     },
     "execution_count": 54,
     "metadata": {},
     "output_type": "execute_result"
    }
   ],
   "source": [
    "C = np.array([\n",
    "    [0.1, np.inf, np.nan, 0.0],\n",
    "    [-np.inf, np.nan, -2.1, 0.1]\n",
    "])\n",
    "C"
   ]
  },
  {
   "cell_type": "code",
   "execution_count": 55,
   "id": "696f7880-bd7e-4964-a48d-ca0b27365815",
   "metadata": {},
   "outputs": [
    {
     "data": {
      "text/plain": [
       "(array([[False, False,  True, False],\n",
       "        [False,  True, False, False]]),\n",
       " array([[False,  True, False, False],\n",
       "        [ True, False, False, False]]),\n",
       " array([[False,  True, False, False],\n",
       "        [False, False, False, False]]),\n",
       " array([[False, False, False, False],\n",
       "        [ True, False, False, False]]))"
      ]
     },
     "execution_count": 55,
     "metadata": {},
     "output_type": "execute_result"
    }
   ],
   "source": [
    "np.isnan(C), np.isinf(C), np.isposinf(C), np.isneginf(C)"
   ]
  },
  {
   "cell_type": "code",
   "execution_count": 56,
   "id": "68b1ee8e-f6fc-437f-a406-d95b13e6a03f",
   "metadata": {},
   "outputs": [
    {
     "data": {
      "text/plain": [
       "(array([[ 1., -0.,  1., -0.],\n",
       "        [ 1.,  3.,  1., -0.],\n",
       "        [-0.,  2.,  1.,  2.]]),\n",
       " array([[ 0., -1.,  0., -1.],\n",
       "        [ 0.,  2.,  0., -1.],\n",
       "        [-1.,  1.,  0.,  1.]]),\n",
       " array([[ 0.96, -0.05,  0.67, -0.89],\n",
       "        [ 0.9 ,  2.4 ,  0.09, -0.26],\n",
       "        [-0.06,  1.63,  0.66,  1.05]]))"
      ]
     },
     "execution_count": 56,
     "metadata": {},
     "output_type": "execute_result"
    }
   ],
   "source": [
    "np.ceil(B), np.floor(B), np.round(B, 2)"
   ]
  },
  {
   "cell_type": "code",
   "execution_count": 57,
   "id": "d1ef2b9e-1fe7-4843-a205-3a7e836c23ee",
   "metadata": {},
   "outputs": [
    {
     "data": {
      "text/plain": [
       "array([[0.66641749, 0.28692405, 0.2       , 0.50342942],\n",
       "       [0.2       , 0.56191413, 0.7310369 , 0.8       ],\n",
       "       [0.8       , 0.66852796, 0.36782425, 0.2       ]])"
      ]
     },
     "execution_count": 57,
     "metadata": {},
     "output_type": "execute_result"
    }
   ],
   "source": [
    "np.clip(A, 0.2, 0.8)"
   ]
  },
  {
   "cell_type": "markdown",
   "id": "6b72d98c-dd6d-435b-84d5-f64064e6b459",
   "metadata": {
    "jp-MarkdownHeadingCollapsed": true,
    "tags": []
   },
   "source": [
    "## Aggregate functions"
   ]
  },
  {
   "cell_type": "code",
   "execution_count": 58,
   "id": "04281dc6-1655-4130-ae62-46bfc40d3dd8",
   "metadata": {},
   "outputs": [
    {
     "data": {
      "text/plain": [
       "(0.4688948551530219, 0.30178835484292116, 0.5326717738114577)"
      ]
     },
     "execution_count": 58,
     "metadata": {},
     "output_type": "execute_result"
    }
   ],
   "source": [
    "A.mean(), A.std(), np.median(A)"
   ]
  },
  {
   "cell_type": "code",
   "execution_count": 59,
   "id": "4a26f42b-498c-4223-91e0-add1664484ca",
   "metadata": {},
   "outputs": [
    {
     "data": {
      "text/plain": [
       "(array([0.52913095, 0.50578871, 0.39691769, 0.44374207]),\n",
       " array([0.21721752, 0.31704426, 0.33892134]),\n",
       " array([0.66641749, 0.56191413, 0.36782425, 0.50342942]))"
      ]
     },
     "execution_count": 59,
     "metadata": {},
     "output_type": "execute_result"
    }
   ],
   "source": [
    "A.mean(axis=0), A.std(axis=1), np.median(A, axis=0)"
   ]
  },
  {
   "cell_type": "code",
   "execution_count": 60,
   "id": "327af58e-cee9-4d55-9815-a021e042998c",
   "metadata": {},
   "outputs": [
    {
     "data": {
      "text/plain": [
       "array([[ 1.       , -0.0434439],\n",
       "       [-0.0434439,  1.       ]])"
      ]
     },
     "execution_count": 60,
     "metadata": {},
     "output_type": "execute_result"
    }
   ],
   "source": [
    "np.corrcoef(A[0],B[0])"
   ]
  },
  {
   "cell_type": "code",
   "execution_count": 61,
   "id": "3b77e766-01fb-4093-84cd-eab10599edd4",
   "metadata": {},
   "outputs": [
    {
     "data": {
      "text/plain": [
       "array([[ 1.        , -0.64186263,  0.2799331 ],\n",
       "       [-0.64186263,  1.        , -0.88909396],\n",
       "       [ 0.2799331 , -0.88909396,  1.        ]])"
      ]
     },
     "execution_count": 61,
     "metadata": {},
     "output_type": "execute_result"
    }
   ],
   "source": [
    "np.corrcoef(A)"
   ]
  },
  {
   "cell_type": "code",
   "execution_count": 62,
   "id": "a510a9cd-ffb7-4394-829a-a851890f87bc",
   "metadata": {},
   "outputs": [
    {
     "data": {
      "text/plain": [
       "array([[False,  True, False,  True],\n",
       "       [False, False,  True,  True],\n",
       "       [ True, False, False, False]])"
      ]
     },
     "execution_count": 62,
     "metadata": {},
     "output_type": "execute_result"
    }
   ],
   "source": [
    "A > B"
   ]
  },
  {
   "cell_type": "code",
   "execution_count": 63,
   "id": "3019413c-9a23-4095-8fa6-2ae8fd755d6e",
   "metadata": {},
   "outputs": [
    {
     "data": {
      "text/plain": [
       "(False, True)"
      ]
     },
     "execution_count": 63,
     "metadata": {},
     "output_type": "execute_result"
    }
   ],
   "source": [
    "(A > B).all(), (A > B).any() # if numeric, non-zero is True"
   ]
  },
  {
   "cell_type": "code",
   "execution_count": 64,
   "id": "d9dd29bc-c6fe-4c93-8e27-e50fc764cb69",
   "metadata": {},
   "outputs": [
    {
     "data": {
      "text/plain": [
       "(array([False, False, False, False]), array([ True,  True,  True,  True]))"
      ]
     },
     "execution_count": 64,
     "metadata": {},
     "output_type": "execute_result"
    }
   ],
   "source": [
    "(A > B).all(axis=0), (A > B).any(axis=0)"
   ]
  },
  {
   "cell_type": "code",
   "execution_count": 65,
   "id": "b7d0fd31-9899-472f-b4df-bca475c78d2e",
   "metadata": {},
   "outputs": [
    {
     "data": {
      "text/plain": [
       "(array([1.58739284, 1.51736613, 1.19075308, 1.33122621]),\n",
       " array([1.54866289, 2.11064606, 1.96742932]),\n",
       " 5.626738261836263)"
      ]
     },
     "execution_count": 65,
     "metadata": {},
     "output_type": "execute_result"
    }
   ],
   "source": [
    "A.sum(axis=0), A.sum(axis=1), A.sum()"
   ]
  },
  {
   "cell_type": "code",
   "execution_count": 66,
   "id": "1b026646-cf85-4580-8e7f-94562319247f",
   "metadata": {},
   "outputs": [
    {
     "data": {
      "text/plain": [
       "(array([0.00113092, 0.10778454, 0.02470911, 0.00490735]),\n",
       " array([0.00884564, 0.00061877, 0.00270044]),\n",
       " 1.4780607086567297e-08)"
      ]
     },
     "execution_count": 66,
     "metadata": {},
     "output_type": "execute_result"
    }
   ],
   "source": [
    "A.prod(axis=0), A.prod(axis=1), A.prod()"
   ]
  },
  {
   "cell_type": "code",
   "execution_count": 67,
   "id": "52babb8a-49ae-4fdb-93e3-990715cf8260",
   "metadata": {},
   "outputs": [
    {
     "data": {
      "text/plain": [
       "(array([0.00184633, 0.28692405, 0.09189193, 0.01194809]),\n",
       " array([0.09189193, 0.00184633, 0.01194809]),\n",
       " 0.0018463295897631626)"
      ]
     },
     "execution_count": 67,
     "metadata": {},
     "output_type": "execute_result"
    }
   ],
   "source": [
    "A.min(axis=0), A.min(axis=1), A.min()"
   ]
  },
  {
   "cell_type": "code",
   "execution_count": 68,
   "id": "72900ab1-feb4-4d12-b176-cf00d320a80d",
   "metadata": {},
   "outputs": [
    {
     "data": {
      "text/plain": [
       "(array([0.91912902, 0.66852796, 0.7310369 , 0.8158487 ]),\n",
       " array([0.66641749, 0.8158487 , 0.91912902]),\n",
       " 0.9191290223483035)"
      ]
     },
     "execution_count": 68,
     "metadata": {},
     "output_type": "execute_result"
    }
   ],
   "source": [
    "A.max(axis=0), A.max(axis=1), A.max()"
   ]
  },
  {
   "cell_type": "code",
   "execution_count": 69,
   "id": "a69a6553-577a-4ff8-8e8c-b18024c92287",
   "metadata": {},
   "outputs": [
    {
     "data": {
      "text/plain": [
       "(array([1, 0, 0, 2]), array([2, 0, 3]), 4)"
      ]
     },
     "execution_count": 69,
     "metadata": {},
     "output_type": "execute_result"
    }
   ],
   "source": [
    "A.argmin(axis=0), A.argmin(axis=1), A.argmin()"
   ]
  },
  {
   "cell_type": "code",
   "execution_count": 70,
   "id": "1e1ece26-abba-4d59-99d7-38f4332a251e",
   "metadata": {},
   "outputs": [
    {
     "data": {
      "text/plain": [
       "(array([[0.66641749, 0.28692405, 0.09189193, 0.50342942],\n",
       "        [0.00184633, 0.56191413, 0.7310369 , 0.8158487 ],\n",
       "        [0.91912902, 0.66852796, 0.36782425, 0.01194809]]),\n",
       " array([0.00184633, 0.28692405, 0.09189193, 0.01194809]),\n",
       " array([0.09189193, 0.00184633, 0.01194809]))"
      ]
     },
     "execution_count": 70,
     "metadata": {},
     "output_type": "execute_result"
    }
   ],
   "source": [
    "A, A[A.argmin(axis=0),np.arange(A.shape[1])], A[np.arange(A.shape[0]),A.argmin(axis=1)]"
   ]
  },
  {
   "cell_type": "code",
   "execution_count": 71,
   "id": "f031da4c-bf58-45cf-b6db-fdc6d46c4b2d",
   "metadata": {},
   "outputs": [
    {
     "data": {
      "text/plain": [
       "(array([2, 2, 1, 1]), array([0, 3, 0]), 8)"
      ]
     },
     "execution_count": 71,
     "metadata": {},
     "output_type": "execute_result"
    }
   ],
   "source": [
    "A.argmax(axis=0), A.argmax(axis=1), A.argmax()"
   ]
  },
  {
   "cell_type": "code",
   "execution_count": 72,
   "id": "e4c48444-1834-48d3-9a56-73c7e441c531",
   "metadata": {},
   "outputs": [
    {
     "data": {
      "text/plain": [
       "(array([[0.66641749, 0.28692405, 0.09189193, 0.50342942],\n",
       "        [0.00184633, 0.56191413, 0.7310369 , 0.8158487 ],\n",
       "        [0.91912902, 0.66852796, 0.36782425, 0.01194809]]),\n",
       " array([0.91912902, 0.66852796, 0.7310369 , 0.8158487 ]),\n",
       " array([0.66641749, 0.8158487 , 0.91912902]))"
      ]
     },
     "execution_count": 72,
     "metadata": {},
     "output_type": "execute_result"
    }
   ],
   "source": [
    "A, A[A.argmax(axis=0),np.arange(A.shape[1])], A[np.arange(A.shape[0]),A.argmax(axis=1)]"
   ]
  },
  {
   "cell_type": "code",
   "execution_count": 73,
   "id": "f098e2f6-35bb-4c5c-806c-65f474ccd7a8",
   "metadata": {},
   "outputs": [
    {
     "data": {
      "text/plain": [
       "(array([[0.66641749, 0.28692405, 0.09189193, 0.50342942],\n",
       "        [0.66826382, 0.84883818, 0.82292883, 1.31927812],\n",
       "        [1.58739284, 1.51736613, 1.19075308, 1.33122621]]),\n",
       " array([[6.66417490e-01, 9.53341539e-01, 1.04523347e+00, 1.54866289e+00],\n",
       "        [1.84632959e-03, 5.63760456e-01, 1.29479736e+00, 2.11064606e+00],\n",
       "        [9.19129022e-01, 1.58765698e+00, 1.95548123e+00, 1.96742932e+00]]),\n",
       " array([0.66641749, 0.95334154, 1.04523347, 1.54866289, 1.55050922,\n",
       "        2.11242335, 2.84346025, 3.65930894, 4.57843797, 5.24696592,\n",
       "        5.61479017, 5.62673826]))"
      ]
     },
     "execution_count": 73,
     "metadata": {},
     "output_type": "execute_result"
    }
   ],
   "source": [
    "A.cumsum(axis=0), A.cumsum(axis=1), A.cumsum()"
   ]
  },
  {
   "cell_type": "code",
   "execution_count": 74,
   "id": "f2d6e5ac-f1cc-4cef-b0a6-043ea665a2d1",
   "metadata": {},
   "outputs": [
    {
     "data": {
      "text/plain": [
       "(array([[0.66641749, 0.28692405, 0.09189193, 0.50342942],\n",
       "        [0.00123043, 0.16122668, 0.06717639, 0.41072224],\n",
       "        [0.00113092, 0.10778454, 0.02470911, 0.00490735]]),\n",
       " array([[6.66417490e-01, 1.91211205e-01, 1.75707664e-02, 8.84564077e-03],\n",
       "        [1.84632959e-03, 1.03747868e-03, 7.58435199e-04, 6.18768369e-04],\n",
       "        [9.19129022e-01, 6.14463446e-01, 2.26014556e-01, 2.70044209e-03]]),\n",
       " array([6.66417490e-01, 1.91211205e-01, 1.75707664e-02, 8.84564077e-03,\n",
       "        1.63319683e-05, 9.17716369e-06, 6.70884532e-06, 5.47340271e-06,\n",
       "        5.03076328e-06, 3.36320589e-06, 1.23706869e-06, 1.47806071e-08]))"
      ]
     },
     "execution_count": 74,
     "metadata": {},
     "output_type": "execute_result"
    }
   ],
   "source": [
    "A.cumprod(axis=0), A.cumprod(axis=1), A.cumprod()"
   ]
  },
  {
   "cell_type": "markdown",
   "id": "78b8556e-65f9-4946-a8ff-5dacdd1e21ce",
   "metadata": {
    "tags": []
   },
   "source": [
    "# Slicing"
   ]
  },
  {
   "cell_type": "code",
   "execution_count": 75,
   "id": "cb5bc267-2176-4ec3-a33f-689caff884cf",
   "metadata": {},
   "outputs": [
    {
     "data": {
      "text/plain": [
       "(array([[0.66641749, 0.28692405, 0.09189193, 0.50342942],\n",
       "        [0.00184633, 0.56191413, 0.7310369 , 0.8158487 ],\n",
       "        [0.91912902, 0.66852796, 0.36782425, 0.01194809]]),\n",
       " array([0.91912902, 0.66852796, 0.36782425, 0.01194809]),\n",
       " array([[0.91912902, 0.66852796, 0.36782425, 0.01194809]]),\n",
       " array([[0.66852796, 0.36782425]]))"
      ]
     },
     "execution_count": 75,
     "metadata": {},
     "output_type": "execute_result"
    }
   ],
   "source": [
    "A, A[2], A[2:3], A[2:3, 1:3]"
   ]
  },
  {
   "cell_type": "code",
   "execution_count": 76,
   "id": "525bf7f7-e8ca-46fd-bf8c-e70e223db00e",
   "metadata": {},
   "outputs": [
    {
     "data": {
      "text/plain": [
       "(array([0.66852796, 0.36782425]), array([0.66852796, 0.36782425]))"
      ]
     },
     "execution_count": 76,
     "metadata": {},
     "output_type": "execute_result"
    }
   ],
   "source": [
    "A[2, 1:3], A[2][1:3]"
   ]
  },
  {
   "cell_type": "code",
   "execution_count": 77,
   "id": "c5364564-b8cc-4283-a0ee-3459803fc538",
   "metadata": {},
   "outputs": [
    {
     "data": {
      "text/plain": [
       "array([[[0.51400259, 0.73219596, 0.21201768],\n",
       "        [0.36296938, 0.36091564, 0.33484285],\n",
       "        [0.93708761, 0.7382183 , 0.62752974]]])"
      ]
     },
     "execution_count": 77,
     "metadata": {},
     "output_type": "execute_result"
    }
   ],
   "source": [
    "C = np.random.random((2,3,3,4))\n",
    "C[0:1,...,3]"
   ]
  },
  {
   "cell_type": "code",
   "execution_count": 78,
   "id": "5004a2ad-ee0d-44ba-a0f4-81289ac040d8",
   "metadata": {},
   "outputs": [
    {
     "data": {
      "text/plain": [
       "(array([[ True, False,  True, False],\n",
       "        [ True,  True, False, False],\n",
       "        [False,  True,  True,  True]]),\n",
       " array([False,  True, False, False]))"
      ]
     },
     "execution_count": 78,
     "metadata": {},
     "output_type": "execute_result"
    }
   ],
   "source": [
    "# Boolean indexing\n",
    "B > 0.5, B.sum(axis=0) > 2"
   ]
  },
  {
   "cell_type": "code",
   "execution_count": 79,
   "id": "19d4b6c4-9c5d-49e6-84ba-06c57e542a8b",
   "metadata": {},
   "outputs": [
    {
     "data": {
      "text/plain": [
       "(array([0.66641749, 0.09189193, 0.00184633, 0.56191413, 0.66852796,\n",
       "        0.36782425, 0.01194809]),\n",
       " array([[0.28692405],\n",
       "        [0.56191413],\n",
       "        [0.66852796]]))"
      ]
     },
     "execution_count": 79,
     "metadata": {},
     "output_type": "execute_result"
    }
   ],
   "source": [
    "A[B > 0.5], A[:, B.sum(axis=0) > 2]"
   ]
  },
  {
   "cell_type": "code",
   "execution_count": 80,
   "id": "534f480e-e7d8-4101-a2a0-9536e8627339",
   "metadata": {},
   "outputs": [
    {
     "data": {
      "text/plain": [
       "array([[0.66641749, 0.28692405, 0.66641749, 0.66641749, 0.28692405],\n",
       "       [0.00184633, 0.56191413, 0.00184633, 0.00184633, 0.56191413],\n",
       "       [0.91912902, 0.66852796, 0.91912902, 0.91912902, 0.66852796]])"
      ]
     },
     "execution_count": 80,
     "metadata": {},
     "output_type": "execute_result"
    }
   ],
   "source": [
    "# Fancy indexing\n",
    "A[:, [0,1,0,0,1]]"
   ]
  },
  {
   "cell_type": "code",
   "execution_count": 81,
   "id": "c1663fc7-be79-42c3-88fd-00cf9a2f5593",
   "metadata": {},
   "outputs": [
    {
     "data": {
      "text/plain": [
       "array([0.09189193, 0.8158487 , 0.50342942])"
      ]
     },
     "execution_count": 81,
     "metadata": {},
     "output_type": "execute_result"
    }
   ],
   "source": [
    "A[[0,1,0], [2,3,3]] # indices must match in length, this produces A[0,2], A[1,3], A[0,3]"
   ]
  },
  {
   "cell_type": "code",
   "execution_count": 82,
   "id": "01954efa-9c48-4360-a513-a6662f660971",
   "metadata": {},
   "outputs": [
    {
     "data": {
      "text/plain": [
       "array([[0.96088413, 0.28692405, 0.66829372, 0.50342942],\n",
       "       [0.8960371 , 2.40403233, 0.7310369 , 0.8158487 ],\n",
       "       [0.91912902, 1.63369261, 0.65843587, 1.05482128]])"
      ]
     },
     "execution_count": 82,
     "metadata": {},
     "output_type": "execute_result"
    }
   ],
   "source": [
    "np.where(A>B, A, B) # pick elements from A if condition is True, else B"
   ]
  },
  {
   "cell_type": "code",
   "execution_count": 83,
   "id": "f2ab2b93-ec34-4071-a586-ffa2655ba58c",
   "metadata": {},
   "outputs": [
    {
     "data": {
      "text/plain": [
       "array([[ 0.96088413, -0.05353463,  0.66829372, -0.88898352],\n",
       "       [ 0.8960371 ,  2.40403233,  0.08752414, -0.25952931],\n",
       "       [-0.06254057,  1.63369261,  0.65843587,  1.05482128]])"
      ]
     },
     "execution_count": 83,
     "metadata": {},
     "output_type": "execute_result"
    }
   ],
   "source": [
    "B"
   ]
  },
  {
   "cell_type": "code",
   "execution_count": 84,
   "id": "68861c2e-d71c-45ef-afce-347cbb047f49",
   "metadata": {},
   "outputs": [
    {
     "data": {
      "text/plain": [
       "(array([[0.9       , 0.1       , 0.66829372, 0.1       ],\n",
       "        [0.8960371 , 0.9       , 0.1       , 0.1       ],\n",
       "        [0.1       , 0.9       , 0.65843587, 0.9       ]]),\n",
       " array([[0.9       , 0.1       , 0.66829372, 0.1       ],\n",
       "        [0.8960371 , 0.9       , 0.1       , 0.1       ],\n",
       "        [0.1       , 0.9       , 0.65843587, 0.9       ]]),\n",
       " array([[0.9       , 0.1       , 0.66829372, 0.1       ],\n",
       "        [0.8960371 , 0.9       , 0.1       , 0.1       ],\n",
       "        [0.1       , 0.9       , 0.65843587, 0.9       ]]))"
      ]
     },
     "execution_count": 84,
     "metadata": {},
     "output_type": "execute_result"
    }
   ],
   "source": [
    "np.clip(B, 0.1, 0.9),\\\n",
    "np.select([B < 0.1, B > 0.9], [0.1, 0.9], B), \\\n",
    "np.where(B>0.1, np.where(B<0.9, B, 0.9), 0.1) # same as clip"
   ]
  },
  {
   "cell_type": "code",
   "execution_count": 85,
   "id": "b8a04866-03a5-49fb-921f-691486d50908",
   "metadata": {},
   "outputs": [
    {
     "data": {
      "text/plain": [
       "array([[ 0.96088413, -0.05353463,  0.1       , -0.88898352],\n",
       "       [ 0.1       ,  2.40403233,  0.08752414, -0.25952931],\n",
       "       [-0.06254057,  1.63369261,  0.1       ,  1.05482128]])"
      ]
     },
     "execution_count": 85,
     "metadata": {},
     "output_type": "execute_result"
    }
   ],
   "source": [
    "np.select([(B > 0.1) & (B < 0.9), (B >= 0.5) & (B < 0.9)], [0.1, 0.9], B)"
   ]
  },
  {
   "cell_type": "markdown",
   "id": "90ac4354-7a40-48b5-9ab4-c54d43d41701",
   "metadata": {},
   "source": [
    "## Transforming arrays"
   ]
  },
  {
   "cell_type": "code",
   "execution_count": 86,
   "id": "10c17616-d0ff-403d-941e-6898a7f5d869",
   "metadata": {},
   "outputs": [],
   "source": [
    "Z = A.copy()\n",
    "Z = np.copy(A)"
   ]
  },
  {
   "cell_type": "code",
   "execution_count": 87,
   "id": "0dcd8038-949e-4447-8e7d-024ac83779c9",
   "metadata": {},
   "outputs": [
    {
     "data": {
      "text/plain": [
       "array([0.00184633, 0.01194809, 0.09189193, 0.28692405, 0.36782425,\n",
       "       0.50342942, 0.56191413, 0.66641749, 0.66852796, 0.7310369 ,\n",
       "       0.8158487 , 0.91912902])"
      ]
     },
     "execution_count": 87,
     "metadata": {},
     "output_type": "execute_result"
    }
   ],
   "source": [
    "np.unique(A)"
   ]
  },
  {
   "cell_type": "code",
   "execution_count": 88,
   "id": "eba9f37d-23c7-44cd-b196-17ae34f9ad57",
   "metadata": {},
   "outputs": [
    {
     "data": {
      "text/plain": [
       "(array([[0.09189193, 0.28692405, 0.50342942, 0.66641749],\n",
       "        [0.00184633, 0.56191413, 0.7310369 , 0.8158487 ],\n",
       "        [0.01194809, 0.36782425, 0.66852796, 0.91912902]]),\n",
       " array([[0.00184633, 0.28692405, 0.09189193, 0.01194809],\n",
       "        [0.66641749, 0.56191413, 0.36782425, 0.50342942],\n",
       "        [0.91912902, 0.66852796, 0.7310369 , 0.8158487 ]]),\n",
       " array([[0.09189193, 0.28692405, 0.50342942, 0.66641749],\n",
       "        [0.00184633, 0.56191413, 0.7310369 , 0.8158487 ],\n",
       "        [0.01194809, 0.36782425, 0.66852796, 0.91912902]]))"
      ]
     },
     "execution_count": 88,
     "metadata": {},
     "output_type": "execute_result"
    }
   ],
   "source": [
    "np.sort(A), np.sort(A,axis=0), np.sort(A,axis=1)"
   ]
  },
  {
   "cell_type": "code",
   "execution_count": 89,
   "id": "ee146303-74b4-49ca-81b8-6704bed9b6f1",
   "metadata": {},
   "outputs": [
    {
     "data": {
      "text/plain": [
       "array([[0.09189193, 0.28692405, 0.50342942, 0.66641749],\n",
       "       [0.00184633, 0.56191413, 0.7310369 , 0.8158487 ],\n",
       "       [0.01194809, 0.36782425, 0.66852796, 0.91912902]])"
      ]
     },
     "execution_count": 89,
     "metadata": {},
     "output_type": "execute_result"
    }
   ],
   "source": [
    "A.sort() # sort on each row in-place\n",
    "A"
   ]
  },
  {
   "cell_type": "code",
   "execution_count": 90,
   "id": "a8b2fb52-c300-4390-a96b-6547cb86ac12",
   "metadata": {},
   "outputs": [
    {
     "data": {
      "text/plain": [
       "array([[0.00184633, 0.28692405, 0.50342942, 0.66641749],\n",
       "       [0.01194809, 0.36782425, 0.66852796, 0.8158487 ],\n",
       "       [0.09189193, 0.56191413, 0.7310369 , 0.91912902]])"
      ]
     },
     "execution_count": 90,
     "metadata": {},
     "output_type": "execute_result"
    }
   ],
   "source": [
    "A.sort(axis=0) # sort on each column in-place\n",
    "A"
   ]
  },
  {
   "cell_type": "code",
   "execution_count": 91,
   "id": "b287ad15-563d-4df3-976b-f0f39842403f",
   "metadata": {},
   "outputs": [
    {
     "data": {
      "text/plain": [
       "array([[2, 1, 3, 0],\n",
       "       [0, 1, 2, 3],\n",
       "       [3, 2, 1, 0]])"
      ]
     },
     "execution_count": 91,
     "metadata": {},
     "output_type": "execute_result"
    }
   ],
   "source": [
    "Z.argsort() # return index to sort"
   ]
  },
  {
   "cell_type": "code",
   "execution_count": 92,
   "id": "8fbd34e6-5c22-4736-8d9a-ee8aa6c07f5e",
   "metadata": {},
   "outputs": [
    {
     "data": {
      "text/plain": [
       "(array([[1, 0, 0, 2],\n",
       "        [0, 1, 2, 0],\n",
       "        [2, 2, 1, 1]]),\n",
       " array([[2, 1, 3, 0],\n",
       "        [0, 1, 2, 3],\n",
       "        [3, 2, 1, 0]]))"
      ]
     },
     "execution_count": 92,
     "metadata": {},
     "output_type": "execute_result"
    }
   ],
   "source": [
    "Z.argsort(axis=0), Z.argsort(axis=1)"
   ]
  },
  {
   "cell_type": "code",
   "execution_count": 93,
   "id": "9327caaf-8d45-4537-9b08-a318cc3692c3",
   "metadata": {},
   "outputs": [
    {
     "data": {
      "text/plain": [
       "array([[0.09189193, 0.28692405, 0.50342942, 0.66641749],\n",
       "       [0.00184633, 0.56191413, 0.7310369 , 0.8158487 ],\n",
       "       [0.01194809, 0.36782425, 0.66852796, 0.91912902]])"
      ]
     },
     "execution_count": 93,
     "metadata": {},
     "output_type": "execute_result"
    }
   ],
   "source": [
    "Z[[[0],[1],[2]], Z.argsort()]"
   ]
  },
  {
   "cell_type": "code",
   "execution_count": 94,
   "id": "3f666792-e44b-4c87-9a4b-4519c9690980",
   "metadata": {},
   "outputs": [
    {
     "data": {
      "text/plain": [
       "(array([[0.66641749, 0.28692405, 0.09189193, 0.50342942],\n",
       "        [0.00184633, 0.56191413, 0.7310369 , 0.8158487 ],\n",
       "        [0.91912902, 0.66852796, 0.36782425, 0.01194809]]),\n",
       " array([[0.66641749, 0.00184633, 0.91912902],\n",
       "        [0.28692405, 0.56191413, 0.66852796],\n",
       "        [0.09189193, 0.7310369 , 0.36782425],\n",
       "        [0.50342942, 0.8158487 , 0.01194809]]),\n",
       " array([[0.66641749, 0.00184633, 0.91912902],\n",
       "        [0.28692405, 0.56191413, 0.66852796],\n",
       "        [0.09189193, 0.7310369 , 0.36782425],\n",
       "        [0.50342942, 0.8158487 , 0.01194809]]),\n",
       " array([[0.66641749, 0.00184633, 0.91912902],\n",
       "        [0.28692405, 0.56191413, 0.66852796],\n",
       "        [0.09189193, 0.7310369 , 0.36782425],\n",
       "        [0.50342942, 0.8158487 , 0.01194809]]))"
      ]
     },
     "execution_count": 94,
     "metadata": {},
     "output_type": "execute_result"
    }
   ],
   "source": [
    "Z, Z.T, Z.swapaxes(0,1), np.transpose(Z)"
   ]
  },
  {
   "cell_type": "code",
   "execution_count": 95,
   "id": "9cef1cfe-d169-408f-80eb-14ef7c3f84c7",
   "metadata": {},
   "outputs": [
    {
     "data": {
      "text/plain": [
       "(array([0.66641749, 0.28692405, 0.09189193, 0.50342942, 0.00184633,\n",
       "        0.56191413, 0.7310369 , 0.8158487 , 0.91912902, 0.66852796,\n",
       "        0.36782425, 0.01194809]),\n",
       " array([0.66641749, 0.28692405, 0.09189193, 0.50342942, 0.00184633,\n",
       "        0.56191413, 0.7310369 , 0.8158487 , 0.91912902, 0.66852796,\n",
       "        0.36782425, 0.01194809]))"
      ]
     },
     "execution_count": 95,
     "metadata": {},
     "output_type": "execute_result"
    }
   ],
   "source": [
    "Z.ravel(), Z.reshape(-1)"
   ]
  },
  {
   "cell_type": "code",
   "execution_count": 96,
   "id": "5f371c3a-85f0-4a0a-9181-1e92df513b19",
   "metadata": {},
   "outputs": [
    {
     "data": {
      "text/plain": [
       "array([[[0.66641749, 0.28692405],\n",
       "        [0.09189193, 0.50342942]],\n",
       "\n",
       "       [[0.00184633, 0.56191413],\n",
       "        [0.7310369 , 0.8158487 ]],\n",
       "\n",
       "       [[0.91912902, 0.66852796],\n",
       "        [0.36782425, 0.01194809]]])"
      ]
     },
     "execution_count": 96,
     "metadata": {},
     "output_type": "execute_result"
    }
   ],
   "source": [
    "Z.reshape(3,2,2)"
   ]
  },
  {
   "cell_type": "code",
   "execution_count": 97,
   "id": "683fc3f4-e912-4942-9f9a-1f64a6f7a4d7",
   "metadata": {},
   "outputs": [
    {
     "data": {
      "text/plain": [
       "array([[[0.66641749],\n",
       "        [0.28692405],\n",
       "        [0.09189193],\n",
       "        [0.50342942]],\n",
       "\n",
       "       [[0.00184633],\n",
       "        [0.56191413],\n",
       "        [0.7310369 ],\n",
       "        [0.8158487 ]],\n",
       "\n",
       "       [[0.91912902],\n",
       "        [0.66852796],\n",
       "        [0.36782425],\n",
       "        [0.01194809]]])"
      ]
     },
     "execution_count": 97,
     "metadata": {},
     "output_type": "execute_result"
    }
   ],
   "source": [
    "np.expand_dims(Z, 2)"
   ]
  },
  {
   "cell_type": "code",
   "execution_count": 98,
   "id": "b59073bb-60e3-4139-ab74-1cfdc597b954",
   "metadata": {},
   "outputs": [
    {
     "data": {
      "text/plain": [
       "array([[0.66641749, 0.28692405],\n",
       "       [0.09189193, 0.50342942]])"
      ]
     },
     "execution_count": 98,
     "metadata": {},
     "output_type": "execute_result"
    }
   ],
   "source": [
    "np.resize(Z, (2,2))"
   ]
  },
  {
   "cell_type": "code",
   "execution_count": 99,
   "id": "d62df955-5a42-4388-9032-d17055e4e9ee",
   "metadata": {},
   "outputs": [
    {
     "data": {
      "text/plain": [
       "array([[0.66641749, 0.28692405, 0.09189193],\n",
       "       [0.50342942, 0.66641749, 0.28692405],\n",
       "       [0.09189193, 0.50342942, 0.66641749]])"
      ]
     },
     "execution_count": 99,
     "metadata": {},
     "output_type": "execute_result"
    }
   ],
   "source": [
    "np.resize(Z[:1], (3,3)) # repetitively fill in a new array"
   ]
  },
  {
   "cell_type": "code",
   "execution_count": 100,
   "id": "2d077174-d623-40e9-8061-ee68f17ef02a",
   "metadata": {},
   "outputs": [
    {
     "data": {
      "text/plain": [
       "array([[0.        , 0.        , 0.        , 0.        , 0.        ,\n",
       "        0.        , 0.        , 0.        ],\n",
       "       [0.        , 0.        , 0.        , 0.        , 0.        ,\n",
       "        0.        , 0.        , 0.        ],\n",
       "       [0.        , 0.        , 0.00184633, 0.28692405, 0.50342942,\n",
       "        0.66641749, 0.        , 0.        ],\n",
       "       [0.        , 0.        , 0.01194809, 0.36782425, 0.66852796,\n",
       "        0.8158487 , 0.        , 0.        ],\n",
       "       [0.        , 0.        , 0.09189193, 0.56191413, 0.7310369 ,\n",
       "        0.91912902, 0.        , 0.        ],\n",
       "       [0.        , 0.        , 0.        , 0.        , 0.        ,\n",
       "        0.        , 0.        , 0.        ],\n",
       "       [0.        , 0.        , 0.        , 0.        , 0.        ,\n",
       "        0.        , 0.        , 0.        ]])"
      ]
     },
     "execution_count": 100,
     "metadata": {},
     "output_type": "execute_result"
    }
   ],
   "source": [
    "np.pad(A,2)"
   ]
  },
  {
   "cell_type": "code",
   "execution_count": 101,
   "id": "2663202d-cd1f-4419-a303-62af903c1af0",
   "metadata": {},
   "outputs": [
    {
     "data": {
      "text/plain": [
       "array([[ 1.00000000e+00, -1.00000000e+00, -1.00000000e+00,\n",
       "        -1.00000000e+00, -1.00000000e+00,  2.00000000e+00],\n",
       "       [ 1.00000000e+00,  1.84632959e-03,  2.86924049e-01,\n",
       "         5.03429422e-01,  6.66417490e-01,  2.00000000e+00],\n",
       "       [ 1.00000000e+00,  1.19480893e-02,  3.67824250e-01,\n",
       "         6.68527955e-01,  8.15848697e-01,  2.00000000e+00],\n",
       "       [ 1.00000000e+00,  9.18919289e-02,  5.61914126e-01,\n",
       "         7.31036903e-01,  9.19129022e-01,  2.00000000e+00],\n",
       "       [ 1.00000000e+00,  0.00000000e+00,  0.00000000e+00,\n",
       "         0.00000000e+00,  0.00000000e+00,  2.00000000e+00]])"
      ]
     },
     "execution_count": 101,
     "metadata": {},
     "output_type": "execute_result"
    }
   ],
   "source": [
    "np.pad(A, 1, \"constant\", constant_values=[[-1,0],[1,2]])"
   ]
  },
  {
   "cell_type": "code",
   "execution_count": 102,
   "id": "0dd7463f-a07b-4224-bfdd-008843e3ad73",
   "metadata": {},
   "outputs": [
    {
     "data": {
      "text/plain": [
       "array([ 1.84632959e-03,  2.86924049e-01,  5.03429422e-01,  6.66417490e-01,\n",
       "        1.19480893e-02,  3.67824250e-01,  6.68527955e-01,  8.15848697e-01,\n",
       "        9.18919289e-02,  5.61914126e-01,  7.31036903e-01,  9.19129022e-01,\n",
       "        9.60884132e-01, -5.35346319e-02,  6.68293717e-01, -8.88983521e-01,\n",
       "        8.96037102e-01,  2.40403233e+00,  8.75241413e-02, -2.59529314e-01,\n",
       "       -6.25405741e-02,  1.63369261e+00,  6.58435868e-01,  1.05482128e+00])"
      ]
     },
     "execution_count": 102,
     "metadata": {},
     "output_type": "execute_result"
    }
   ],
   "source": [
    "np.append(A,B) # flatten and append"
   ]
  },
  {
   "cell_type": "code",
   "execution_count": 103,
   "id": "17f05ce7-1bf1-4dfa-b9e3-c737b66d7490",
   "metadata": {},
   "outputs": [
    {
     "data": {
      "text/plain": [
       "(array([[ 1.84632959e-03,  2.86924049e-01,  5.03429422e-01,\n",
       "          6.66417490e-01],\n",
       "        [ 1.19480893e-02,  3.67824250e-01,  6.68527955e-01,\n",
       "          8.15848697e-01],\n",
       "        [ 9.18919289e-02,  5.61914126e-01,  7.31036903e-01,\n",
       "          9.19129022e-01],\n",
       "        [ 9.60884132e-01, -5.35346319e-02,  6.68293717e-01,\n",
       "         -8.88983521e-01],\n",
       "        [ 8.96037102e-01,  2.40403233e+00,  8.75241413e-02,\n",
       "         -2.59529314e-01],\n",
       "        [-6.25405741e-02,  1.63369261e+00,  6.58435868e-01,\n",
       "          1.05482128e+00]]),\n",
       " array([[ 1.84632959e-03,  2.86924049e-01,  5.03429422e-01,\n",
       "          6.66417490e-01],\n",
       "        [ 1.19480893e-02,  3.67824250e-01,  6.68527955e-01,\n",
       "          8.15848697e-01],\n",
       "        [ 9.18919289e-02,  5.61914126e-01,  7.31036903e-01,\n",
       "          9.19129022e-01],\n",
       "        [ 9.60884132e-01, -5.35346319e-02,  6.68293717e-01,\n",
       "         -8.88983521e-01],\n",
       "        [ 8.96037102e-01,  2.40403233e+00,  8.75241413e-02,\n",
       "         -2.59529314e-01],\n",
       "        [-6.25405741e-02,  1.63369261e+00,  6.58435868e-01,\n",
       "          1.05482128e+00]]),\n",
       " array([[ 1.84632959e-03,  2.86924049e-01,  5.03429422e-01,\n",
       "          6.66417490e-01],\n",
       "        [ 1.19480893e-02,  3.67824250e-01,  6.68527955e-01,\n",
       "          8.15848697e-01],\n",
       "        [ 9.18919289e-02,  5.61914126e-01,  7.31036903e-01,\n",
       "          9.19129022e-01],\n",
       "        [ 9.60884132e-01, -5.35346319e-02,  6.68293717e-01,\n",
       "         -8.88983521e-01],\n",
       "        [ 8.96037102e-01,  2.40403233e+00,  8.75241413e-02,\n",
       "         -2.59529314e-01],\n",
       "        [-6.25405741e-02,  1.63369261e+00,  6.58435868e-01,\n",
       "          1.05482128e+00]]),\n",
       " array([[ 1.84632959e-03,  2.86924049e-01,  5.03429422e-01,\n",
       "          6.66417490e-01],\n",
       "        [ 1.19480893e-02,  3.67824250e-01,  6.68527955e-01,\n",
       "          8.15848697e-01],\n",
       "        [ 9.18919289e-02,  5.61914126e-01,  7.31036903e-01,\n",
       "          9.19129022e-01],\n",
       "        [ 9.60884132e-01, -5.35346319e-02,  6.68293717e-01,\n",
       "         -8.88983521e-01],\n",
       "        [ 8.96037102e-01,  2.40403233e+00,  8.75241413e-02,\n",
       "         -2.59529314e-01],\n",
       "        [-6.25405741e-02,  1.63369261e+00,  6.58435868e-01,\n",
       "          1.05482128e+00]]))"
      ]
     },
     "execution_count": 103,
     "metadata": {},
     "output_type": "execute_result"
    }
   ],
   "source": [
    "np.vstack((A,B)), np.r_[A,B], np.concatenate((A,B), axis=0), np.append(A, B, axis=0)"
   ]
  },
  {
   "cell_type": "code",
   "execution_count": 104,
   "id": "d051d47b-9335-4eee-854f-81e0b8eba525",
   "metadata": {},
   "outputs": [
    {
     "data": {
      "text/plain": [
       "(array([[ 1.84632959e-03,  2.86924049e-01,  5.03429422e-01,\n",
       "          6.66417490e-01,  9.60884132e-01, -5.35346319e-02,\n",
       "          6.68293717e-01, -8.88983521e-01],\n",
       "        [ 1.19480893e-02,  3.67824250e-01,  6.68527955e-01,\n",
       "          8.15848697e-01,  8.96037102e-01,  2.40403233e+00,\n",
       "          8.75241413e-02, -2.59529314e-01],\n",
       "        [ 9.18919289e-02,  5.61914126e-01,  7.31036903e-01,\n",
       "          9.19129022e-01, -6.25405741e-02,  1.63369261e+00,\n",
       "          6.58435868e-01,  1.05482128e+00]]),\n",
       " array([[ 1.84632959e-03,  2.86924049e-01,  5.03429422e-01,\n",
       "          6.66417490e-01,  9.60884132e-01, -5.35346319e-02,\n",
       "          6.68293717e-01, -8.88983521e-01],\n",
       "        [ 1.19480893e-02,  3.67824250e-01,  6.68527955e-01,\n",
       "          8.15848697e-01,  8.96037102e-01,  2.40403233e+00,\n",
       "          8.75241413e-02, -2.59529314e-01],\n",
       "        [ 9.18919289e-02,  5.61914126e-01,  7.31036903e-01,\n",
       "          9.19129022e-01, -6.25405741e-02,  1.63369261e+00,\n",
       "          6.58435868e-01,  1.05482128e+00]]),\n",
       " array([[ 1.84632959e-03,  2.86924049e-01,  5.03429422e-01,\n",
       "          6.66417490e-01,  9.60884132e-01, -5.35346319e-02,\n",
       "          6.68293717e-01, -8.88983521e-01],\n",
       "        [ 1.19480893e-02,  3.67824250e-01,  6.68527955e-01,\n",
       "          8.15848697e-01,  8.96037102e-01,  2.40403233e+00,\n",
       "          8.75241413e-02, -2.59529314e-01],\n",
       "        [ 9.18919289e-02,  5.61914126e-01,  7.31036903e-01,\n",
       "          9.19129022e-01, -6.25405741e-02,  1.63369261e+00,\n",
       "          6.58435868e-01,  1.05482128e+00]]),\n",
       " array([[ 1.84632959e-03,  2.86924049e-01,  5.03429422e-01,\n",
       "          6.66417490e-01,  9.60884132e-01, -5.35346319e-02,\n",
       "          6.68293717e-01, -8.88983521e-01],\n",
       "        [ 1.19480893e-02,  3.67824250e-01,  6.68527955e-01,\n",
       "          8.15848697e-01,  8.96037102e-01,  2.40403233e+00,\n",
       "          8.75241413e-02, -2.59529314e-01],\n",
       "        [ 9.18919289e-02,  5.61914126e-01,  7.31036903e-01,\n",
       "          9.19129022e-01, -6.25405741e-02,  1.63369261e+00,\n",
       "          6.58435868e-01,  1.05482128e+00]]))"
      ]
     },
     "execution_count": 104,
     "metadata": {},
     "output_type": "execute_result"
    }
   ],
   "source": [
    "np.hstack((A,B)), np.c_[A,B], np.concatenate((A,B), axis=1), np.append(A, B, axis=1)"
   ]
  },
  {
   "cell_type": "code",
   "execution_count": 105,
   "id": "2a14d6ea-fa5b-4253-ae45-8eab16b874a8",
   "metadata": {},
   "outputs": [
    {
     "data": {
      "text/plain": [
       "array([0.00184633, 0.28692405, 0.5       , 0.50342942, 0.66641749,\n",
       "       0.01194809, 0.36782425, 0.66852796, 0.8158487 , 0.09189193,\n",
       "       0.56191413, 0.7310369 , 0.91912902])"
      ]
     },
     "execution_count": 105,
     "metadata": {},
     "output_type": "execute_result"
    }
   ],
   "source": [
    "np.insert(A, 2, 0.5)"
   ]
  },
  {
   "cell_type": "code",
   "execution_count": 106,
   "id": "5f14d03f-8982-4ede-8cca-b044dba2b6c0",
   "metadata": {},
   "outputs": [
    {
     "data": {
      "text/plain": [
       "array([[0.00184633, 0.28692405, 0.5       , 0.50342942, 0.66641749],\n",
       "       [0.01194809, 0.36782425, 0.5       , 0.66852796, 0.8158487 ],\n",
       "       [0.09189193, 0.56191413, 0.5       , 0.7310369 , 0.91912902]])"
      ]
     },
     "execution_count": 106,
     "metadata": {},
     "output_type": "execute_result"
    }
   ],
   "source": [
    "np.insert(A, 2, 0.5, axis=1)"
   ]
  },
  {
   "cell_type": "code",
   "execution_count": 107,
   "id": "888bfb97-03d7-43c2-bcee-3deedec0413e",
   "metadata": {},
   "outputs": [
    {
     "data": {
      "text/plain": [
       "array([[0.66641749, 0.28692405, 0.5       , 0.50342942],\n",
       "       [0.00184633, 0.56191413, 0.5       , 0.8158487 ],\n",
       "       [0.91912902, 0.66852796, 0.5       , 0.01194809]])"
      ]
     },
     "execution_count": 107,
     "metadata": {},
     "output_type": "execute_result"
    }
   ],
   "source": [
    "Z[:, 2:3] = 0.5\n",
    "Z"
   ]
  },
  {
   "cell_type": "code",
   "execution_count": 108,
   "id": "09b81fde-683a-40f8-bb3a-aa3016388073",
   "metadata": {},
   "outputs": [
    {
     "data": {
      "text/plain": [
       "array([[0.66641749, 0.28692405, 0.4       , 0.50342942],\n",
       "       [0.00184633, 0.56191413, 0.4       , 0.8158487 ],\n",
       "       [0.91912902, 0.66852796, 0.4       , 0.01194809]])"
      ]
     },
     "execution_count": 108,
     "metadata": {},
     "output_type": "execute_result"
    }
   ],
   "source": [
    "Z[:, 2] = 0.4\n",
    "Z"
   ]
  },
  {
   "cell_type": "code",
   "execution_count": 109,
   "id": "9a5cc69b-831d-4fa6-8aaa-a5a40c345d72",
   "metadata": {},
   "outputs": [
    {
     "data": {
      "text/plain": [
       "array([[0.66641749, 0.28692405, 0.50342942],\n",
       "       [0.00184633, 0.56191413, 0.8158487 ],\n",
       "       [0.91912902, 0.66852796, 0.01194809]])"
      ]
     },
     "execution_count": 109,
     "metadata": {},
     "output_type": "execute_result"
    }
   ],
   "source": [
    "np.delete(Z, 2, axis=1)"
   ]
  },
  {
   "cell_type": "code",
   "execution_count": 110,
   "id": "eea1d85c-b2fd-410d-832e-32e348f5e531",
   "metadata": {},
   "outputs": [
    {
     "data": {
      "text/plain": [
       "array([[0.66641749, 0.28692405],\n",
       "       [0.00184633, 0.56191413],\n",
       "       [0.91912902, 0.66852796]])"
      ]
     },
     "execution_count": 110,
     "metadata": {},
     "output_type": "execute_result"
    }
   ],
   "source": [
    "np.delete(Z, [2,3], axis=1)"
   ]
  },
  {
   "cell_type": "code",
   "execution_count": 111,
   "id": "700e3512-66a7-4c63-8313-0eb64aceef9a",
   "metadata": {},
   "outputs": [
    {
     "data": {
      "text/plain": [
       "[array([[0.00184633, 0.28692405],\n",
       "        [0.01194809, 0.36782425],\n",
       "        [0.09189193, 0.56191413]]),\n",
       " array([[0.50342942, 0.66641749],\n",
       "        [0.66852796, 0.8158487 ],\n",
       "        [0.7310369 , 0.91912902]])]"
      ]
     },
     "execution_count": 111,
     "metadata": {},
     "output_type": "execute_result"
    }
   ],
   "source": [
    "np.hsplit(A, 2) # split array into horizontal two of equal shapes"
   ]
  },
  {
   "cell_type": "code",
   "execution_count": 112,
   "id": "ca70b0cd-5fcd-47cd-a2c9-74794d9ffd5f",
   "metadata": {},
   "outputs": [
    {
     "data": {
      "text/plain": [
       "[array([[0.00184633, 0.28692405, 0.50342942, 0.66641749]]),\n",
       " array([[0.01194809, 0.36782425, 0.66852796, 0.8158487 ]]),\n",
       " array([[0.09189193, 0.56191413, 0.7310369 , 0.91912902]])]"
      ]
     },
     "execution_count": 112,
     "metadata": {},
     "output_type": "execute_result"
    }
   ],
   "source": [
    "np.vsplit(A, 3) # split array into vertical 3 of equal shapes"
   ]
  },
  {
   "cell_type": "markdown",
   "id": "fc06c4b4-9aa6-4b32-8edd-4a8829c0c15c",
   "metadata": {},
   "source": [
    "## Linear Algebra functions"
   ]
  },
  {
   "cell_type": "code",
   "execution_count": 113,
   "id": "e55ea5d0-57c5-4a81-b6f4-42c7c1c2f0d9",
   "metadata": {},
   "outputs": [
    {
     "data": {
      "text/plain": [
       "array([[ -5.14253269,   0.86244485,   2.76914077],\n",
       "       [ -0.60972356,  -5.00897377,   4.99178291],\n",
       "       [-22.29874613,  20.58075818,  -2.0972416 ],\n",
       "       [ 18.62238644, -13.39304061,  -0.57255728]])"
      ]
     },
     "execution_count": 113,
     "metadata": {},
     "output_type": "execute_result"
    }
   ],
   "source": [
    "np.linalg.pinv(A)"
   ]
  },
  {
   "cell_type": "code",
   "execution_count": 114,
   "id": "a5ee11e3-822b-4587-8946-ec9d1c0ad379",
   "metadata": {},
   "outputs": [
    {
     "data": {
      "text/plain": [
       "array([[0.77988227, 0.98581217, 1.14194548],\n",
       "       [0.98581217, 1.24797616, 1.4463724 ],\n",
       "       [1.14194548, 1.4463724 , 1.70340472]])"
      ]
     },
     "execution_count": 114,
     "metadata": {},
     "output_type": "execute_result"
    }
   ],
   "source": [
    "M = A @ A.T\n",
    "M"
   ]
  },
  {
   "cell_type": "code",
   "execution_count": 115,
   "id": "21b6358f-080a-465a-a410-945d28755b9a",
   "metadata": {},
   "outputs": [
    {
     "data": {
      "text/plain": [
       "3.8830545618760194e-05"
      ]
     },
     "execution_count": 115,
     "metadata": {},
     "output_type": "execute_result"
    }
   ],
   "source": [
    "np.linalg.det(M)"
   ]
  },
  {
   "cell_type": "code",
   "execution_count": 116,
   "id": "2586c5ef-d9f3-4212-b4ad-8acaba1ec8e2",
   "metadata": {},
   "outputs": [
    {
     "data": {
      "text/plain": [
       "array([[ 870.84476126, -709.71654142,   18.81947055],\n",
       "       [-709.71654142,  628.77477364,  -58.11001779],\n",
       "       [  18.81947055,  -58.11001779,   37.31228134]])"
      ]
     },
     "execution_count": 116,
     "metadata": {},
     "output_type": "execute_result"
    }
   ],
   "source": [
    "np.linalg.inv(M)"
   ]
  },
  {
   "cell_type": "code",
   "execution_count": 117,
   "id": "bb6d5c15-9fcc-4bb7-b937-4b1a1531bf01",
   "metadata": {},
   "outputs": [
    {
     "data": {
      "text/plain": [
       "3.715234169608681"
      ]
     },
     "execution_count": 117,
     "metadata": {},
     "output_type": "execute_result"
    }
   ],
   "source": [
    "np.linalg.norm(M)"
   ]
  },
  {
   "cell_type": "code",
   "execution_count": 118,
   "id": "8644e803-786f-47f5-a7d6-eadcc1fdc40f",
   "metadata": {},
   "outputs": [
    {
     "data": {
      "text/plain": [
       "3"
      ]
     },
     "execution_count": 118,
     "metadata": {},
     "output_type": "execute_result"
    }
   ],
   "source": [
    "np.linalg.matrix_rank(A)"
   ]
  },
  {
   "cell_type": "code",
   "execution_count": 119,
   "id": "f43ec7e6-6ab3-424d-abab-77f20f4aa07d",
   "metadata": {},
   "outputs": [
    {
     "data": {
      "text/plain": [
       "array([[0.88310943, 0.        , 0.        ],\n",
       "       [1.11629672, 0.04310207, 0.        ],\n",
       "       [1.29309623, 0.06712701, 0.16370958]])"
      ]
     },
     "execution_count": 119,
     "metadata": {},
     "output_type": "execute_result"
    }
   ],
   "source": [
    "np.linalg.cholesky(M)"
   ]
  },
  {
   "cell_type": "code",
   "execution_count": 120,
   "id": "8a74f536-728d-4e61-8568-fff9e68bd136",
   "metadata": {},
   "outputs": [
    {
     "data": {
      "text/plain": [
       "(array([[-0.45710668,  0.45668111, -0.76321416],\n",
       "        [-0.57862223,  0.49899802,  0.64513354],\n",
       "        [-0.67546266, -0.73650753, -0.03615051]]),\n",
       " array([1.927486  , 0.12402169, 0.02606741]),\n",
       " array([[-0.03622696, -0.37537922, -0.57626059, -0.72505295],\n",
       "        [-0.49083223, -0.80048593,  0.20227636,  0.27819107],\n",
       "        [ 0.11420497, -0.07680926,  0.79171606, -0.59518337],\n",
       "        [-0.86297657,  0.4608829 ,  0.01391732, -0.20655436]]))"
      ]
     },
     "execution_count": 120,
     "metadata": {},
     "output_type": "execute_result"
    }
   ],
   "source": [
    "np.linalg.svd(A)"
   ]
  },
  {
   "cell_type": "code",
   "execution_count": 121,
   "id": "7a6d329a-ade1-4e2a-91da-3d1aa714da92",
   "metadata": {},
   "outputs": [
    {
     "data": {
      "text/plain": [
       "(array([3.71520227e+00, 6.79509868e-04, 1.53813786e-02]),\n",
       " array([[-0.45710668, -0.76321416, -0.45668111],\n",
       "        [-0.57862223,  0.64513354, -0.49899802],\n",
       "        [-0.67546266, -0.03615051,  0.73650753]]))"
      ]
     },
     "execution_count": 121,
     "metadata": {},
     "output_type": "execute_result"
    }
   ],
   "source": [
    "np.linalg.eig(M)"
   ]
  }
 ],
 "metadata": {
  "kernelspec": {
   "display_name": "Python 3 (ipykernel)",
   "language": "python",
   "name": "python3"
  },
  "language_info": {
   "codemirror_mode": {
    "name": "ipython",
    "version": 3
   },
   "file_extension": ".py",
   "mimetype": "text/x-python",
   "name": "python",
   "nbconvert_exporter": "python",
   "pygments_lexer": "ipython3",
   "version": "3.9.12"
  }
 },
 "nbformat": 4,
 "nbformat_minor": 5
}
